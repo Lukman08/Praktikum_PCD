{
 "cells": [
  {
   "cell_type": "code",
   "execution_count": 4,
   "id": "821ff05e-50c6-4b52-b267-2a2add003e4f",
   "metadata": {},
   "outputs": [
    {
     "name": "stdout",
     "output_type": "stream",
     "text": [
      "nama saya adalah lukman\n"
     ]
    }
   ],
   "source": [
    "a = \"lukman\"\n",
    "\n",
    "print(\"nama saya adalah \"+a)"
   ]
  }
 ],
 "metadata": {
  "kernelspec": {
   "display_name": "Python 3 (ipykernel)",
   "language": "python",
   "name": "python3"
  },
  "language_info": {
   "codemirror_mode": {
    "name": "ipython",
    "version": 3
   },
   "file_extension": ".py",
   "mimetype": "text/x-python",
   "name": "python",
   "nbconvert_exporter": "python",
   "pygments_lexer": "ipython3",
   "version": "3.9.16"
  }
 },
 "nbformat": 4,
 "nbformat_minor": 5
}
