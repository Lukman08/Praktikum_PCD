{
 "cells": [
  {
   "cell_type": "code",
   "execution_count": 3,
   "id": "b3955fa4-94dc-4f17-8ebb-17a72863f46b",
   "metadata": {},
   "outputs": [
    {
     "name": "stdout",
     "output_type": "stream",
     "text": [
      "Adi\n"
     ]
    }
   ],
   "source": [
    "user_1 = 'Adi'\n",
    "print(user_1)"
   ]
  },
  {
   "cell_type": "code",
   "execution_count": 5,
   "id": "244fc570-199f-489c-bef3-09dde35bad6e",
   "metadata": {},
   "outputs": [
    {
     "name": "stdout",
     "output_type": "stream",
     "text": [
      "Indramayu Indramayu Indramayu\n"
     ]
    }
   ],
   "source": [
    "lokasi_1 = lokasi_2 = lokasi_3 = 'Indramayu'\n",
    "print(lokasi_1, lokasi_2, lokasi_3)"
   ]
  },
  {
   "cell_type": "code",
   "execution_count": 6,
   "id": "add1a31d-e079-4dd1-b386-7d27c6669a92",
   "metadata": {},
   "outputs": [
    {
     "name": "stdout",
     "output_type": "stream",
     "text": [
      "Pengolahan Citra Digital\n"
     ]
    }
   ],
   "source": [
    "user_1, user_2, user_3 = 'Pengolahan', 'Citra', 'Digital'\n",
    "print(user_1, user_2, user_3)"
   ]
  },
  {
   "cell_type": "code",
   "execution_count": 7,
   "id": "c497afb0-bfb1-4355-b058-e48d1c3abd44",
   "metadata": {},
   "outputs": [],
   "source": [
    "namaku = \"Ade\"\n",
    "umurku = 17\n",
    "\n",
    "tahunKelahiran = 2006\n",
    "tahunSekarang = 2023"
   ]
  },
  {
   "cell_type": "code",
   "execution_count": 3,
   "id": "00cf0b68-ea7b-45c7-a84b-f928ea0b9b15",
   "metadata": {},
   "outputs": [
    {
     "ename": "NameError",
     "evalue": "name 'namaku' is not defined",
     "output_type": "error",
     "traceback": [
      "\u001b[1;31m---------------------------------------------------------------------------\u001b[0m",
      "\u001b[1;31mNameError\u001b[0m                                 Traceback (most recent call last)",
      "\u001b[1;32m~\\AppData\\Local\\Temp\\ipykernel_14112\\1097190376.py\u001b[0m in \u001b[0;36m<module>\u001b[1;34m\u001b[0m\n\u001b[1;32m----> 1\u001b[1;33m \u001b[0mprint\u001b[0m\u001b[1;33m(\u001b[0m\u001b[1;34m\"Halo, namaku \"\u001b[0m \u001b[1;33m+\u001b[0m \u001b[0mnamaku\u001b[0m\u001b[1;33m)\u001b[0m\u001b[1;33m\u001b[0m\u001b[1;33m\u001b[0m\u001b[0m\n\u001b[0m\u001b[0;32m      2\u001b[0m \u001b[0mprint\u001b[0m\u001b[1;33m(\u001b[0m\u001b[1;34m\"Umurku \"\u001b[0m \u001b[1;33m+\u001b[0m \u001b[0mumurku\u001b[0m\u001b[1;33m)\u001b[0m\u001b[1;33m\u001b[0m\u001b[1;33m\u001b[0m\u001b[0m\n",
      "\u001b[1;31mNameError\u001b[0m: name 'namaku' is not defined"
     ]
    }
   ],
   "source": [
    "print(\"Halo, namaku \" + namaku)\n",
    "print(\"Umurku \" + umurku)"
   ]
  },
  {
   "cell_type": "code",
   "execution_count": 9,
   "id": "38be1fe4-4cfc-4f78-b79f-dfe7c36aa6f8",
   "metadata": {},
   "outputs": [
    {
     "name": "stdout",
     "output_type": "stream",
     "text": [
      "Halo, namaku Ade\n",
      "Umurku 17\n"
     ]
    }
   ],
   "source": [
    "print(\"Halo, namaku\", namaku)\n",
    "print(\"Umurku\", umurku)"
   ]
  },
  {
   "cell_type": "code",
   "execution_count": 10,
   "id": "043bfb90-98c2-4070-91e2-be34aea40ea3",
   "metadata": {},
   "outputs": [
    {
     "name": "stdout",
     "output_type": "stream",
     "text": [
      "Halo, namaku Ade.\n",
      "Umurku 17. \n",
      "Ade umur 17\n"
     ]
    }
   ],
   "source": [
    "# %-Formatting\n",
    "print(\"Halo, namaku %s.\\nUmurku %s. \\n%s umur %s\" % (namaku, umurku, namaku, umurku))"
   ]
  },
  {
   "cell_type": "code",
   "execution_count": 11,
   "id": "23981103-749f-4d7c-b38a-ad7e5c7fa5e8",
   "metadata": {},
   "outputs": [
    {
     "name": "stdout",
     "output_type": "stream",
     "text": [
      "Halo, namaku Ade.\n",
      "Umurku 17.\n",
      "Ade umur 17\n"
     ]
    }
   ],
   "source": [
    "# str.format()\n",
    "# 0 itu pertama, 1 itu kedua\n",
    "print(\"Halo, namaku {nama}.\\nUmurku {umur}.\\n{nama} umur {umur}\".format(nama = namaku, umur = umurku))"
   ]
  },
  {
   "cell_type": "code",
   "execution_count": 12,
   "id": "6ef307b6-7261-4ada-8315-c11be03ee2b0",
   "metadata": {},
   "outputs": [
    {
     "name": "stdout",
     "output_type": "stream",
     "text": [
      "Halo, namaku Ade.\n",
      "Umurku 17.\n",
      "Ade umur 17\n",
      "Halo, namaku Ade.\n",
      "Umurku 17.\n",
      "Ade umur 17\n",
      "{17}\n"
     ]
    }
   ],
   "source": [
    "# f-String\n",
    "print(f\"Halo, namaku {namaku}.\\nUmurku {umurku}.\\n{namaku} umur {umurku}\")\n",
    "print(f\"Halo, namaku {namaku}.\\nUmurku {umurku}.\\n{namaku} umur {tahunSekarang - tahunKelahiran}\")\n",
    "print(f\"{{{tahunSekarang - tahunKelahiran}}}\")"
   ]
  },
  {
   "cell_type": "code",
   "execution_count": 13,
   "id": "b5adb74e-f6d3-4c9a-a335-82f651628250",
   "metadata": {},
   "outputs": [
    {
     "name": "stdout",
     "output_type": "stream",
     "text": [
      "Pengolahan Citra\n"
     ]
    }
   ],
   "source": [
    "nama = 'Pengolahan Citra'\n",
    "\n",
    "print(nama)"
   ]
  },
  {
   "cell_type": "code",
   "execution_count": 14,
   "id": "ed7158c9-6b1a-47e5-96ae-7d9284146563",
   "metadata": {},
   "outputs": [
    {
     "name": "stdout",
     "output_type": "stream",
     "text": [
      "Pengolahan Citra Digital\n"
     ]
    }
   ],
   "source": [
    "tambah_nama_akhir = nama + ' Digital'\n",
    "\n",
    "print(tambah_nama_akhir)"
   ]
  },
  {
   "cell_type": "code",
   "execution_count": 16,
   "id": "ce1c69f8-18a3-49bf-afe5-7b413397195f",
   "metadata": {},
   "outputs": [
    {
     "name": "stdout",
     "output_type": "stream",
     "text": [
      "Matakuliah Pengolahan Citra\n"
     ]
    }
   ],
   "source": [
    "tambah_nama_awal = 'Matakuliah ' + nama\n",
    "\n",
    "print(tambah_nama_awal)"
   ]
  },
  {
   "cell_type": "code",
   "execution_count": 17,
   "id": "ef09a5e5-abce-47ac-9167-d1d8446653f0",
   "metadata": {},
   "outputs": [
    {
     "name": "stdout",
     "output_type": "stream",
     "text": [
      "Pengolahan Citra Digital\n"
     ]
    }
   ],
   "source": [
    "nama_lengkap = 'Pengolahan Citra Digital'\n",
    "\n",
    "print(nama_lengkap)"
   ]
  },
  {
   "cell_type": "code",
   "execution_count": 18,
   "id": "2119201a-9a33-4860-a15d-377fb88871f4",
   "metadata": {},
   "outputs": [
    {
     "name": "stdout",
     "output_type": "stream",
     "text": [
      "P\n",
      "e\n",
      "n\n",
      "g\n"
     ]
    }
   ],
   "source": [
    "print(nama_lengkap[0])\n",
    "print(nama_lengkap[1])\n",
    "print(nama_lengkap[2])\n",
    "print(nama_lengkap[3])"
   ]
  },
  {
   "cell_type": "code",
   "execution_count": 19,
   "id": "8123d875-8cb4-4314-8a8c-f0c775cc05a2",
   "metadata": {},
   "outputs": [
    {
     "name": "stdout",
     "output_type": "stream",
     "text": [
      "Pengola\n",
      "an Citra\n",
      "Digital\n"
     ]
    }
   ],
   "source": [
    "print(nama_lengkap[:7])\n",
    "print(nama_lengkap[8:16])\n",
    "print(nama_lengkap[17:])"
   ]
  },
  {
   "cell_type": "code",
   "execution_count": 24,
   "id": "3e0cfb7b-6b52-4329-afbc-1209d0e870fa",
   "metadata": {},
   "outputs": [
    {
     "name": "stdout",
     "output_type": "stream",
     "text": [
      "<class 'int'>\n",
      "2\n",
      "3\n"
     ]
    }
   ],
   "source": [
    "jml_transaksi_1 = 2\n",
    "jml_transaksi_2 = 3\n",
    "\n",
    "print(type(jml_transaksi_1))\n",
    "print(jml_transaksi_1)\n",
    "print(jml_transaksi_2)"
   ]
  },
  {
   "cell_type": "code",
   "execution_count": 21,
   "id": "46b408c8-c2e0-49d3-ba87-4bc503b94553",
   "metadata": {},
   "outputs": [
    {
     "name": "stdout",
     "output_type": "stream",
     "text": [
      "5\n",
      "-1\n",
      "6\n",
      "8\n"
     ]
    }
   ],
   "source": [
    "print(jml_transaksi_1 + jml_transaksi_2)\n",
    "print(jml_transaksi_1 - jml_transaksi_2)\n",
    "print(jml_transaksi_1 * jml_transaksi_2)\n",
    "print(jml_transaksi_1 ** jml_transaksi_2)"
   ]
  },
  {
   "cell_type": "code",
   "execution_count": 22,
   "id": "a7141b0a-643e-41e8-938e-88c778b06d12",
   "metadata": {},
   "outputs": [
    {
     "name": "stdout",
     "output_type": "stream",
     "text": [
      "<class 'float'>\n",
      "2.5\n"
     ]
    }
   ],
   "source": [
    "rata2 = (jml_transaksi_1 + jml_transaksi_2) / 2\n",
    "print(type(rata2))\n",
    "print(rata2)"
   ]
  },
  {
   "cell_type": "code",
   "execution_count": 23,
   "id": "0866b3a6-dadb-4286-883e-5950b058884f",
   "metadata": {},
   "outputs": [
    {
     "name": "stdout",
     "output_type": "stream",
     "text": [
      "1.5\n",
      "1\n"
     ]
    }
   ],
   "source": [
    "print(jml_transaksi_2 / jml_transaksi_1)\n",
    "print(jml_transaksi_2 // jml_transaksi_1)"
   ]
  },
  {
   "cell_type": "code",
   "execution_count": 24,
   "id": "7e464b3c-8c3b-4c88-9b0e-3e6db96ca4ef",
   "metadata": {},
   "outputs": [
    {
     "name": "stdout",
     "output_type": "stream",
     "text": [
      "0\n",
      "0\n",
      "1\n",
      "0\n",
      "4\n",
      "3\n",
      "2\n"
     ]
    }
   ],
   "source": [
    "print(9 % 1)\n",
    "print(9 % 9)\n",
    "print(9 % 2)\n",
    "print(9 % 3)\n",
    "print(9 % 5)\n",
    "print(9 % 6)\n",
    "print(9 % 7)"
   ]
  },
  {
   "cell_type": "code",
   "execution_count": 17,
   "id": "c0bbd89f-dc88-448d-b158-4f443368b200",
   "metadata": {},
   "outputs": [
    {
     "name": "stdout",
     "output_type": "stream",
     "text": [
      "7.3631\n",
      "3.312\n"
     ]
    }
   ],
   "source": [
    "berat_1 = 7.3631\n",
    "berat_2 = 3.312\n",
    "\n",
    "print(berat_1)\n",
    "print(berat_2)"
   ]
  },
  {
   "cell_type": "code",
   "execution_count": 18,
   "id": "944b5712-6da3-4d48-a1a7-ef47f3750571",
   "metadata": {},
   "outputs": [
    {
     "name": "stdout",
     "output_type": "stream",
     "text": [
      "10.6751\n",
      "4.0511\n",
      "-4.0511\n",
      "4.0511\n"
     ]
    }
   ],
   "source": [
    "print(berat_1 + berat_2)\n",
    "print(berat_1 - berat_2)\n",
    "print(berat_2 - berat_1)\n",
    "print((berat_2 - berat_1) * -1)"
   ]
  },
  {
   "cell_type": "code",
   "execution_count": 19,
   "id": "ab731dbb-90a3-4cfc-93ed-55be783a39a4",
   "metadata": {},
   "outputs": [
    {
     "name": "stdout",
     "output_type": "stream",
     "text": [
      "24.3865872\n",
      "2.223158212560387\n",
      "2.0\n"
     ]
    }
   ],
   "source": [
    "print(berat_1 * berat_2)\n",
    "print(berat_1 / berat_2)\n",
    "print(berat_1 // berat_2)"
   ]
  },
  {
   "cell_type": "code",
   "execution_count": 22,
   "id": "8b2e17aa-b18e-4534-9ce2-bda751e5de8c",
   "metadata": {},
   "outputs": [
    {
     "name": "stdout",
     "output_type": "stream",
     "text": [
      "0.7391000000000005\n"
     ]
    }
   ],
   "source": [
    "print(berat_1 % berat_2)"
   ]
  },
  {
   "cell_type": "code",
   "execution_count": 27,
   "id": "bb1cf3a2-c7d1-4f4c-bbc3-081bd1bba661",
   "metadata": {},
   "outputs": [
    {
     "name": "stdout",
     "output_type": "stream",
     "text": [
      "5.311999999999999\n",
      "1.3119999999999998\n"
     ]
    }
   ],
   "source": [
    "print(jml_transaksi_1 + berat_2)\n",
    "print(berat_2 - jml_transaksi_1)"
   ]
  },
  {
   "cell_type": "code",
   "execution_count": 29,
   "id": "7a59d5da-036b-4bb5-a6b8-436f0b2119fe",
   "metadata": {},
   "outputs": [
    {
     "name": "stdout",
     "output_type": "stream",
     "text": [
      "<class 'bool'>\n",
      "True\n",
      "False\n"
     ]
    }
   ],
   "source": [
    "is_married = True\n",
    "is_arrived = False\n",
    "\n",
    "print(type(is_married))\n",
    "print(is_married)\n",
    "print(is_arrived)"
   ]
  },
  {
   "cell_type": "code",
   "execution_count": 30,
   "id": "1c1787b1-960f-46d2-ad3a-9ad2d71b4510",
   "metadata": {},
   "outputs": [
    {
     "name": "stdout",
     "output_type": "stream",
     "text": [
      "<class 'list'>\n",
      "['apel', True, 'pisang', 92, -0.2551, ['a', 'b', 'c']]\n"
     ]
    }
   ],
   "source": [
    "mix_data_types = ['apel', True, 'pisang', 92, -0.2551, ['a', 'b', 'c']]\n",
    "\n",
    "print(type(mix_data_types))\n",
    "print(mix_data_types)"
   ]
  },
  {
   "cell_type": "code",
   "execution_count": 31,
   "id": "a61f51e9-577a-4b22-a23e-cec094c03cd5",
   "metadata": {},
   "outputs": [
    {
     "name": "stdout",
     "output_type": "stream",
     "text": [
      "['apel', 'belimbing', 'ceri', 'duren']\n"
     ]
    }
   ],
   "source": [
    "buah = ['apel', 'belimbing', 'ceri', 'duren']\n",
    "\n",
    "print(buah)"
   ]
  },
  {
   "cell_type": "code",
   "execution_count": 32,
   "id": "5b7d561a-96b8-4434-8238-70cddadde9a7",
   "metadata": {},
   "outputs": [
    {
     "name": "stdout",
     "output_type": "stream",
     "text": [
      "['apel', True, 'pisang', 92, -0.2551, ['a', 'b', 'c'], 'apel', 'belimbing', 'ceri', 'duren']\n"
     ]
    }
   ],
   "source": [
    "concat_lists = mix_data_types + buah\n",
    "\n",
    "print(concat_lists)"
   ]
  },
  {
   "cell_type": "code",
   "execution_count": 33,
   "id": "c0c649a5-472b-4a45-a4da-1b3ffa485e37",
   "metadata": {},
   "outputs": [
    {
     "name": "stdout",
     "output_type": "stream",
     "text": [
      "['apel', 'belimbing', 'ceri', 'duren']\n",
      "['apel', 'belimbing', 'ceri', 'duren']\n",
      "['duren', 'ceri', 'belimbing', 'apel']\n"
     ]
    }
   ],
   "source": [
    "# print(sorted(mix_data_types))\n",
    "print(sorted(buah))\n",
    "print(sorted(buah, reverse=False))\n",
    "print(sorted(buah, reverse=True))"
   ]
  },
  {
   "cell_type": "code",
   "execution_count": 34,
   "id": "b65e0368-1c50-49d2-98b9-d44aa09f8805",
   "metadata": {},
   "outputs": [
    {
     "name": "stdout",
     "output_type": "stream",
     "text": [
      "duren\n",
      "apel\n"
     ]
    }
   ],
   "source": [
    "# print(max(mix_data_types))\n",
    "print(max(buah))\n",
    "print(min(buah))"
   ]
  },
  {
   "cell_type": "code",
   "execution_count": 35,
   "id": "42c2f633-c32b-4b7c-82c4-e6f43d1ad9d9",
   "metadata": {},
   "outputs": [
    {
     "name": "stdout",
     "output_type": "stream",
     "text": [
      "['apel', 'belimbing', 'ceri', 'duren']\n"
     ]
    }
   ],
   "source": [
    "buah = ['apel', 'belimbing', 'ceri', 'duren']\n",
    "\n",
    "print(buah)"
   ]
  },
  {
   "cell_type": "code",
   "execution_count": 36,
   "id": "c7aa3963-3133-49bc-9d61-89c35d3f3951",
   "metadata": {},
   "outputs": [
    {
     "name": "stdout",
     "output_type": "stream",
     "text": [
      "['apel', 'belimbing', 'ceri', 'duren', 'jeruk']\n"
     ]
    }
   ],
   "source": [
    "buah.append('jeruk')\n",
    "\n",
    "print(buah)"
   ]
  },
  {
   "cell_type": "code",
   "execution_count": 37,
   "id": "ef874e4a-1916-41a3-a0b8-06e0bab8205a",
   "metadata": {},
   "outputs": [
    {
     "name": "stdout",
     "output_type": "stream",
     "text": [
      "['apel', 'belimbing', 'cermai', 'ceri', 'duren', 'jeruk']\n"
     ]
    }
   ],
   "source": [
    "buah.insert(2, 'cermai')\n",
    "\n",
    "print(buah)"
   ]
  },
  {
   "cell_type": "code",
   "execution_count": 38,
   "id": "0e2065c1-2c72-4a90-9125-29b5a784d125",
   "metadata": {},
   "outputs": [
    {
     "name": "stdout",
     "output_type": "stream",
     "text": [
      "['apel', 'belimbing', 'cermai', 'duren', 'jeruk']\n"
     ]
    }
   ],
   "source": [
    "buah.remove('ceri')\n",
    "\n",
    "print(buah)"
   ]
  },
  {
   "cell_type": "code",
   "execution_count": 40,
   "id": "dc9530e6-6ae8-471f-9d79-1475673b0572",
   "metadata": {},
   "outputs": [
    {
     "name": "stdout",
     "output_type": "stream",
     "text": [
      "['apel', 'belimbing', 'cermai']\n"
     ]
    }
   ],
   "source": [
    "del buah[-1]\n",
    "\n",
    "print(buah)"
   ]
  },
  {
   "cell_type": "code",
   "execution_count": 41,
   "id": "5cb6bcdb-10a9-440f-a05e-5b5c24214ba2",
   "metadata": {},
   "outputs": [
    {
     "name": "stdout",
     "output_type": "stream",
     "text": [
      "cermai\n",
      "['apel', 'belimbing']\n"
     ]
    }
   ],
   "source": [
    "buah_index_ke_2 = buah.pop(2)\n",
    "\n",
    "print(buah_index_ke_2)\n",
    "print(buah)"
   ]
  },
  {
   "cell_type": "code",
   "execution_count": 42,
   "id": "ff067695-ca5c-4106-81c3-cd6eaed3a377",
   "metadata": {},
   "outputs": [
    {
     "name": "stdout",
     "output_type": "stream",
     "text": [
      "['apel', True, 'pisang', 92, -0.2551, ['a', 'b', 'c']]\n"
     ]
    }
   ],
   "source": [
    "print(mix_data_types)"
   ]
  },
  {
   "cell_type": "code",
   "execution_count": 43,
   "id": "3767af1c-9c0f-46c5-826e-2414f0877647",
   "metadata": {},
   "outputs": [
    {
     "name": "stdout",
     "output_type": "stream",
     "text": [
      "6\n"
     ]
    }
   ],
   "source": [
    "print(len(mix_data_types))"
   ]
  },
  {
   "cell_type": "code",
   "execution_count": 44,
   "id": "70f95e47-7e5a-4ba7-a2be-336708dab02c",
   "metadata": {},
   "outputs": [
    {
     "name": "stdout",
     "output_type": "stream",
     "text": [
      "['apel', 'belimbing', 'ceri', 'duren']\n"
     ]
    }
   ],
   "source": [
    "buah = ['apel', 'belimbing', 'ceri', 'duren']\n",
    "\n",
    "print(buah)"
   ]
  },
  {
   "cell_type": "code",
   "execution_count": 45,
   "id": "21bdf509-e198-4c0a-ac23-57fc1fddac24",
   "metadata": {},
   "outputs": [
    {
     "name": "stdout",
     "output_type": "stream",
     "text": [
      "apel\n",
      "belimbing\n",
      "duren\n",
      "ceri\n"
     ]
    }
   ],
   "source": [
    "print(buah[0])\n",
    "print(buah[1])\n",
    "\n",
    "print(buah[-1])\n",
    "print(buah[-2])"
   ]
  },
  {
   "cell_type": "code",
   "execution_count": 46,
   "id": "c2ac85fa-ff7d-4ed9-b11f-962d7219f27c",
   "metadata": {},
   "outputs": [
    {
     "name": "stdout",
     "output_type": "stream",
     "text": [
      "['apel', 'belimbing', 'ceri']\n",
      "['apel', 'belimbing', 'ceri']\n"
     ]
    }
   ],
   "source": [
    "print(buah[0:3])\n",
    "print(buah[:3])"
   ]
  },
  {
   "cell_type": "code",
   "execution_count": 47,
   "id": "d770e750-bb9a-4801-a0d7-19530be41ffa",
   "metadata": {},
   "outputs": [
    {
     "name": "stdout",
     "output_type": "stream",
     "text": [
      "['belimbing', 'ceri']\n",
      "['belimbing', 'ceri', 'duren']\n"
     ]
    }
   ],
   "source": [
    "print(buah[-3:-1])\n",
    "print(buah[-3:])"
   ]
  },
  {
   "cell_type": "code",
   "execution_count": 48,
   "id": "8f692ed5-262e-4681-9f15-2b4c524525fa",
   "metadata": {},
   "outputs": [
    {
     "name": "stdout",
     "output_type": "stream",
     "text": [
      "(1, 2, 3, 4, 5)\n"
     ]
    }
   ],
   "source": [
    "tuple_numbers = (1,2,3,4,5)\n",
    "\n",
    "print(tuple_numbers)"
   ]
  },
  {
   "cell_type": "code",
   "execution_count": 49,
   "id": "93f17a75-88ca-48ca-b38e-7644c0ca48b1",
   "metadata": {},
   "outputs": [
    {
     "name": "stdout",
     "output_type": "stream",
     "text": [
      "('a', 'i', 'merupakan adalah', 2, 6.431, 61.124, True, False)\n"
     ]
    }
   ],
   "source": [
    "mix_tuple = ('a', 'i', 'merupakan adalah', 2, 6.431, 61.124, True, False)\n",
    "\n",
    "print(mix_tuple)"
   ]
  },
  {
   "cell_type": "code",
   "execution_count": 50,
   "id": "d3602761-3aa5-487b-aba4-6b7d6ff0f032",
   "metadata": {},
   "outputs": [
    {
     "name": "stdout",
     "output_type": "stream",
     "text": [
      "(1, 2, 3, 4, 5)\n"
     ]
    }
   ],
   "source": [
    "print(tuple_numbers)"
   ]
  },
  {
   "cell_type": "code",
   "execution_count": 51,
   "id": "0d663133-56f1-4f90-b4bd-d9a74102ec09",
   "metadata": {},
   "outputs": [
    {
     "name": "stdout",
     "output_type": "stream",
     "text": [
      "1\n"
     ]
    },
    {
     "ename": "TypeError",
     "evalue": "'tuple' object does not support item assignment",
     "output_type": "error",
     "traceback": [
      "\u001b[1;31m---------------------------------------------------------------------------\u001b[0m",
      "\u001b[1;31mTypeError\u001b[0m                                 Traceback (most recent call last)",
      "\u001b[1;32m~\\AppData\\Local\\Temp\\ipykernel_14112\\3375120904.py\u001b[0m in \u001b[0;36m<module>\u001b[1;34m\u001b[0m\n\u001b[0;32m      1\u001b[0m \u001b[0mprint\u001b[0m\u001b[1;33m(\u001b[0m\u001b[0mtuple_numbers\u001b[0m\u001b[1;33m[\u001b[0m\u001b[1;36m0\u001b[0m\u001b[1;33m]\u001b[0m\u001b[1;33m)\u001b[0m\u001b[1;33m\u001b[0m\u001b[1;33m\u001b[0m\u001b[0m\n\u001b[0;32m      2\u001b[0m \u001b[1;33m\u001b[0m\u001b[0m\n\u001b[1;32m----> 3\u001b[1;33m \u001b[0mtuple_numbers\u001b[0m\u001b[1;33m[\u001b[0m\u001b[1;36m0\u001b[0m\u001b[1;33m]\u001b[0m \u001b[1;33m=\u001b[0m \u001b[1;36m99\u001b[0m\u001b[1;33m\u001b[0m\u001b[1;33m\u001b[0m\u001b[0m\n\u001b[0m\u001b[0;32m      4\u001b[0m \u001b[0mprint\u001b[0m\u001b[1;33m(\u001b[0m\u001b[0mtuple_numbers\u001b[0m\u001b[1;33m)\u001b[0m\u001b[1;33m\u001b[0m\u001b[1;33m\u001b[0m\u001b[0m\n",
      "\u001b[1;31mTypeError\u001b[0m: 'tuple' object does not support item assignment"
     ]
    }
   ],
   "source": [
    "print(tuple_numbers[0])\n",
    "\n",
    "tuple_numbers[0] = 99\n",
    "print(tuple_numbers)"
   ]
  },
  {
   "cell_type": "code",
   "execution_count": 52,
   "id": "83af7bdb-23b7-49d5-aa27-4227a0c157e2",
   "metadata": {},
   "outputs": [
    {
     "ename": "TypeError",
     "evalue": "'tuple' object doesn't support item deletion",
     "output_type": "error",
     "traceback": [
      "\u001b[1;31m---------------------------------------------------------------------------\u001b[0m",
      "\u001b[1;31mTypeError\u001b[0m                                 Traceback (most recent call last)",
      "\u001b[1;32m~\\AppData\\Local\\Temp\\ipykernel_14112\\3637645044.py\u001b[0m in \u001b[0;36m<module>\u001b[1;34m\u001b[0m\n\u001b[1;32m----> 1\u001b[1;33m \u001b[1;32mdel\u001b[0m \u001b[0mtuple_numbers\u001b[0m\u001b[1;33m[\u001b[0m\u001b[1;36m0\u001b[0m\u001b[1;33m]\u001b[0m\u001b[1;33m\u001b[0m\u001b[1;33m\u001b[0m\u001b[0m\n\u001b[0m",
      "\u001b[1;31mTypeError\u001b[0m: 'tuple' object doesn't support item deletion"
     ]
    }
   ],
   "source": [
    "del tuple_numbers[0]"
   ]
  },
  {
   "cell_type": "code",
   "execution_count": 53,
   "id": "5dc4441c-5718-4980-ac36-c636955fa170",
   "metadata": {},
   "outputs": [
    {
     "name": "stdout",
     "output_type": "stream",
     "text": [
      "(1, 2, 3, 4, 5)\n",
      "(1, 2, 3, 4, 5, 6, 7, 8)\n"
     ]
    }
   ],
   "source": [
    "print(tuple_numbers)\n",
    "\n",
    "tuple_new_numbers = tuple_numbers + (6,7,8)\n",
    "\n",
    "print(tuple_new_numbers)"
   ]
  },
  {
   "cell_type": "code",
   "execution_count": 54,
   "id": "b6e9cd75-c8b4-4182-98b3-b90f862a6fbb",
   "metadata": {},
   "outputs": [
    {
     "name": "stdout",
     "output_type": "stream",
     "text": [
      "(1, 2, 3, 4, 5)\n"
     ]
    },
    {
     "ename": "NameError",
     "evalue": "name 'tuple_numbers' is not defined",
     "output_type": "error",
     "traceback": [
      "\u001b[1;31m---------------------------------------------------------------------------\u001b[0m",
      "\u001b[1;31mNameError\u001b[0m                                 Traceback (most recent call last)",
      "\u001b[1;32m~\\AppData\\Local\\Temp\\ipykernel_14112\\1695857640.py\u001b[0m in \u001b[0;36m<module>\u001b[1;34m\u001b[0m\n\u001b[0;32m      3\u001b[0m \u001b[1;32mdel\u001b[0m \u001b[0mtuple_numbers\u001b[0m\u001b[1;33m\u001b[0m\u001b[1;33m\u001b[0m\u001b[0m\n\u001b[0;32m      4\u001b[0m \u001b[1;33m\u001b[0m\u001b[0m\n\u001b[1;32m----> 5\u001b[1;33m \u001b[0mprint\u001b[0m\u001b[1;33m(\u001b[0m\u001b[0mtuple_numbers\u001b[0m\u001b[1;33m)\u001b[0m\u001b[1;33m\u001b[0m\u001b[1;33m\u001b[0m\u001b[0m\n\u001b[0m",
      "\u001b[1;31mNameError\u001b[0m: name 'tuple_numbers' is not defined"
     ]
    }
   ],
   "source": [
    "print(tuple_numbers)\n",
    "\n",
    "del tuple_numbers\n",
    "\n",
    "print(tuple_numbers)"
   ]
  },
  {
   "cell_type": "code",
   "execution_count": 55,
   "id": "49d1111e-127f-48bd-9dff-1352f162059a",
   "metadata": {},
   "outputs": [
    {
     "name": "stdout",
     "output_type": "stream",
     "text": [
      "(1, 2, 3, 4, 5)\n",
      "5\n"
     ]
    }
   ],
   "source": [
    "tuple_numbers = (1,2,3,4,5)\n",
    "\n",
    "print(tuple_numbers)\n",
    "print(len(tuple_numbers))"
   ]
  },
  {
   "cell_type": "code",
   "execution_count": 56,
   "id": "2526f81f-3797-4f62-9516-a04373527613",
   "metadata": {},
   "outputs": [
    {
     "name": "stdout",
     "output_type": "stream",
     "text": [
      "('budi', 'andi', 'riri', 'joko')\n",
      "(33, 23, 26)\n"
     ]
    }
   ],
   "source": [
    "nama = ('budi', 'andi', 'riri', 'joko')\n",
    "umur = (33, 23, 26)\n",
    "\n",
    "# nama = ['budi', 'andi', 'riri', 'joko']\n",
    "# umur = [33, 23, 26]\n",
    "\n",
    "print(nama)\n",
    "print(umur)"
   ]
  },
  {
   "cell_type": "code",
   "execution_count": 57,
   "id": "5eaa7ef3-7509-4ced-9721-0adbf391df2f",
   "metadata": {},
   "outputs": [
    {
     "name": "stdout",
     "output_type": "stream",
     "text": [
      "<zip object at 0x000001B04696B740>\n",
      "[('budi', 33), ('andi', 23), ('riri', 26)]\n"
     ]
    }
   ],
   "source": [
    "zipped = zip(nama, umur)\n",
    "\n",
    "print(zipped)\n",
    "print(list(zipped))"
   ]
  },
  {
   "cell_type": "code",
   "execution_count": 58,
   "id": "7d0fada9-f088-4640-9804-c6d805b989c9",
   "metadata": {},
   "outputs": [
    {
     "name": "stdout",
     "output_type": "stream",
     "text": [
      "1\n",
      "2\n",
      "5\n",
      "4\n"
     ]
    }
   ],
   "source": [
    "print(tuple_numbers[0])\n",
    "print(tuple_numbers[1])\n",
    "\n",
    "print(tuple_numbers[-1])\n",
    "print(tuple_numbers[-2])"
   ]
  },
  {
   "cell_type": "code",
   "execution_count": 59,
   "id": "b147de21-aebb-4f34-83f2-2935df40c1bc",
   "metadata": {},
   "outputs": [
    {
     "name": "stdout",
     "output_type": "stream",
     "text": [
      "(1, 2, 3)\n",
      "(1, 2, 3)\n"
     ]
    }
   ],
   "source": [
    "print(tuple_numbers[0:3])\n",
    "print(tuple_numbers[:3])"
   ]
  },
  {
   "cell_type": "code",
   "execution_count": 60,
   "id": "e0348872-c869-490f-a028-195765d00dbb",
   "metadata": {},
   "outputs": [
    {
     "name": "stdout",
     "output_type": "stream",
     "text": [
      "(3, 4)\n",
      "(3, 4, 5)\n"
     ]
    }
   ],
   "source": [
    "print(tuple_numbers[-3:-1])\n",
    "print(tuple_numbers[-3:])"
   ]
  },
  {
   "cell_type": "code",
   "execution_count": 62,
   "id": "abdb964d-972d-4adb-aee6-8eaa10c2b475",
   "metadata": {},
   "outputs": [
    {
     "name": "stdout",
     "output_type": "stream",
     "text": [
      "{1, 2, 3, 4, 5}\n"
     ]
    }
   ],
   "source": [
    "set_numbers = {1,2,3,4,5}\n",
    "\n",
    "print(set_numbers)"
   ]
  },
  {
   "cell_type": "code",
   "execution_count": 63,
   "id": "f6c65b3d-a2e1-48f3-8e61-951d9066884f",
   "metadata": {},
   "outputs": [
    {
     "name": "stdout",
     "output_type": "stream",
     "text": [
      "{0.351, 1, 2, False, 'ini budi', 8.134}\n"
     ]
    }
   ],
   "source": [
    "mixed_set = {1, 2, 0.351, 8.134, False, 'ini budi'}\n",
    "\n",
    "print(mixed_set)"
   ]
  },
  {
   "cell_type": "code",
   "execution_count": 64,
   "id": "60f1d5ca-dbbe-493f-9393-ca085c1398a6",
   "metadata": {},
   "outputs": [
    {
     "name": "stdout",
     "output_type": "stream",
     "text": [
      "{1, 2, 3, 4, 5}\n"
     ]
    }
   ],
   "source": [
    "random_set_numbers = {4,5,5,1,2,3,3}\n",
    "\n",
    "print(random_set_numbers)"
   ]
  },
  {
   "cell_type": "code",
   "execution_count": 65,
   "id": "aae04b00-31b1-48c3-b501-f4ad2bd05f23",
   "metadata": {},
   "outputs": [
    {
     "ename": "TypeError",
     "evalue": "'set' object is not subscriptable",
     "output_type": "error",
     "traceback": [
      "\u001b[1;31m---------------------------------------------------------------------------\u001b[0m",
      "\u001b[1;31mTypeError\u001b[0m                                 Traceback (most recent call last)",
      "\u001b[1;32m~\\AppData\\Local\\Temp\\ipykernel_14112\\127606744.py\u001b[0m in \u001b[0;36m<module>\u001b[1;34m\u001b[0m\n\u001b[1;32m----> 1\u001b[1;33m \u001b[0mprint\u001b[0m\u001b[1;33m(\u001b[0m\u001b[0mrandom_set_numbers\u001b[0m\u001b[1;33m[\u001b[0m\u001b[1;36m0\u001b[0m\u001b[1;33m]\u001b[0m\u001b[1;33m)\u001b[0m\u001b[1;33m\u001b[0m\u001b[1;33m\u001b[0m\u001b[0m\n\u001b[0m",
      "\u001b[1;31mTypeError\u001b[0m: 'set' object is not subscriptable"
     ]
    }
   ],
   "source": [
    "print(random_set_numbers[0])"
   ]
  },
  {
   "cell_type": "code",
   "execution_count": 66,
   "id": "358a3f54-ced2-4daf-910f-5c4e95f6be13",
   "metadata": {},
   "outputs": [
    {
     "name": "stdout",
     "output_type": "stream",
     "text": [
      "{1, 2, 3, 4, 5}\n"
     ]
    }
   ],
   "source": [
    "print(random_set_numbers)"
   ]
  },
  {
   "cell_type": "code",
   "execution_count": 67,
   "id": "f26c40b0-9945-49da-976f-d1380bbb3024",
   "metadata": {},
   "outputs": [
    {
     "name": "stdout",
     "output_type": "stream",
     "text": [
      "{1, 2, 3, 4, 5, 6}\n"
     ]
    }
   ],
   "source": [
    "random_set_numbers.add(6)\n",
    "\n",
    "print(random_set_numbers)"
   ]
  },
  {
   "cell_type": "code",
   "execution_count": 68,
   "id": "2cd53abb-8b67-4d12-89d5-5c9e0c34b210",
   "metadata": {},
   "outputs": [
    {
     "name": "stdout",
     "output_type": "stream",
     "text": [
      "{1, 3, 4, 5, 6}\n"
     ]
    }
   ],
   "source": [
    "random_set_numbers.remove(2)\n",
    "\n",
    "print(random_set_numbers)"
   ]
  },
  {
   "cell_type": "code",
   "execution_count": 69,
   "id": "25bb483a-b202-49f5-90b4-baf82fcff17d",
   "metadata": {},
   "outputs": [
    {
     "name": "stdout",
     "output_type": "stream",
     "text": [
      "{'nama': 'budi', 'umur': 25, 'sudah_menikah': False, 3: 'integer as key', True: 'boolean as key'}\n",
      "budi\n",
      "integer as key\n",
      "boolean as key\n"
     ]
    }
   ],
   "source": [
    "dict_user = {'nama': 'budi', 'umur': 25, 'sudah_menikah': False, 3: 'integer as key', True: 'boolean as key'}\n",
    "\n",
    "print(dict_user)\n",
    "\n",
    "print(dict_user['nama'])\n",
    "print(dict_user[3])\n",
    "print(dict_user[True])"
   ]
  },
  {
   "cell_type": "code",
   "execution_count": 70,
   "id": "ff78b8cb-77c9-47a9-bc86-c8b4a023ca4d",
   "metadata": {},
   "outputs": [
    {
     "name": "stdout",
     "output_type": "stream",
     "text": [
      "dict_keys(['nama', 'umur', 'sudah_menikah', 3, True])\n"
     ]
    }
   ],
   "source": [
    " print(dict_user.keys())"
   ]
  },
  {
   "cell_type": "code",
   "execution_count": 71,
   "id": "99d5c3f3-27b3-4079-bd72-d5a1f60421b0",
   "metadata": {},
   "outputs": [
    {
     "name": "stdout",
     "output_type": "stream",
     "text": [
      "dict_values(['budi', 25, False, 'integer as key', 'boolean as key'])\n"
     ]
    }
   ],
   "source": [
    "print(dict_user.values())"
   ]
  },
  {
   "cell_type": "code",
   "execution_count": 72,
   "id": "6bc83cc8-73ba-4d9e-bdee-cc380086bf77",
   "metadata": {},
   "outputs": [
    {
     "name": "stdout",
     "output_type": "stream",
     "text": [
      "dict_items([('nama', 'budi'), ('umur', 25), ('sudah_menikah', False), (3, 'integer as key'), (True, 'boolean as key')])\n"
     ]
    }
   ],
   "source": [
    "print(dict_user.items())"
   ]
  },
  {
   "cell_type": "code",
   "execution_count": 73,
   "id": "06f15985-b49f-4e62-882d-2b09e5b21f12",
   "metadata": {},
   "outputs": [
    {
     "name": "stdout",
     "output_type": "stream",
     "text": [
      "{'nama': 'budi', 'umur': 25, 'sudah_menikah': False, 3: 'integer as key', True: 'boolean as key'}\n"
     ]
    }
   ],
   "source": [
    "print(dict_user)"
   ]
  },
  {
   "cell_type": "code",
   "execution_count": 74,
   "id": "fe4e26e6-0494-45c2-8c30-7890cab9c63d",
   "metadata": {},
   "outputs": [
    {
     "name": "stdout",
     "output_type": "stream",
     "text": [
      "{'nama': 'budi', 'umur': 25, 'sudah_menikah': False, 3: 'integer as key', True: 'boolean as key', 'alamat': 'jl lohbener lama no 8 indramayu'}\n"
     ]
    }
   ],
   "source": [
    "dict_user['alamat'] = 'jl lohbener lama no 8 indramayu'\n",
    "\n",
    "print(dict_user)"
   ]
  },
  {
   "cell_type": "code",
   "execution_count": 75,
   "id": "0b975c0d-b0ed-4759-a3b1-531498ed3706",
   "metadata": {},
   "outputs": [
    {
     "name": "stdout",
     "output_type": "stream",
     "text": [
      "{'nama': 'budi', 'sudah_menikah': False, 3: 'integer as key', True: 'boolean as key', 'alamat': 'jl lohbener lama no 8 indramayu'}\n"
     ]
    }
   ],
   "source": [
    "del dict_user['umur']\n",
    "\n",
    "print(dict_user)"
   ]
  }
 ],
 "metadata": {
  "kernelspec": {
   "display_name": "Python 3 (ipykernel)",
   "language": "python",
   "name": "python3"
  },
  "language_info": {
   "codemirror_mode": {
    "name": "ipython",
    "version": 3
   },
   "file_extension": ".py",
   "mimetype": "text/x-python",
   "name": "python",
   "nbconvert_exporter": "python",
   "pygments_lexer": "ipython3",
   "version": "3.9.16"
  }
 },
 "nbformat": 4,
 "nbformat_minor": 5
}
