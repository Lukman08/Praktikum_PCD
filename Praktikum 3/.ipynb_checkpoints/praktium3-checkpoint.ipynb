{
 "cells": [
  {
   "cell_type": "code",
   "execution_count": 2,
   "id": "3f4cb747-a604-4eff-a321-dda705129845",
   "metadata": {},
   "outputs": [],
   "source": [
    "a = 1\n",
    "b = 3\n",
    "c = [1, 2]\n",
    "d = []"
   ]
  },
  {
   "cell_type": "code",
   "execution_count": 3,
   "id": "c817a28b-4ad4-4826-b50f-a8c34dfb04a4",
   "metadata": {},
   "outputs": [
    {
     "name": "stdout",
     "output_type": "stream",
     "text": [
      "False\n",
      "True\n",
      "True\n",
      "True\n",
      "False\n",
      "False\n"
     ]
    }
   ],
   "source": [
    "print(a == b)\n",
    "print(a != b)\n",
    "print(a < b)\n",
    "print(a <= b)\n",
    "print(a > b)\n",
    "print(a >= b)"
   ]
  },
  {
   "cell_type": "code",
   "execution_count": 5,
   "id": "b7c975eb-c0bc-4d57-ba4f-7a27790c2c6b",
   "metadata": {},
   "outputs": [
    {
     "name": "stdout",
     "output_type": "stream",
     "text": [
      "True\n"
     ]
    }
   ],
   "source": [
    "print(a in c)"
   ]
  },
  {
   "cell_type": "code",
   "execution_count": 6,
   "id": "f7fe5a18-d8e9-4f38-a655-4b11a9d4c612",
   "metadata": {},
   "outputs": [
    {
     "name": "stdout",
     "output_type": "stream",
     "text": [
      "True\n"
     ]
    }
   ],
   "source": [
    "print(isinstance(a,int))"
   ]
  },
  {
   "cell_type": "code",
   "execution_count": 8,
   "id": "bf34c422-08e5-4648-aaee-4f32fcd90f1a",
   "metadata": {},
   "outputs": [
    {
     "name": "stdout",
     "output_type": "stream",
     "text": [
      "False\n"
     ]
    }
   ],
   "source": [
    "print(d is False)"
   ]
  },
  {
   "cell_type": "code",
   "execution_count": 9,
   "id": "98af2238-b0bf-4e49-8eaf-7b74e4607e80",
   "metadata": {},
   "outputs": [
    {
     "name": "stdout",
     "output_type": "stream",
     "text": [
      "True\n"
     ]
    }
   ],
   "source": [
    "print(len(d) == 0)"
   ]
  },
  {
   "cell_type": "code",
   "execution_count": 10,
   "id": "dbc22a27-d6d1-4a45-a345-a7c4d7e904e9",
   "metadata": {},
   "outputs": [
    {
     "name": "stdout",
     "output_type": "stream",
     "text": [
      "False\n",
      "True\n"
     ]
    }
   ],
   "source": [
    "print(a == b and a in c)\n",
    "print(a == b or a in c)"
   ]
  },
  {
   "cell_type": "code",
   "execution_count": 12,
   "id": "b297772f-de35-4822-8cf8-0e9d31349b63",
   "metadata": {},
   "outputs": [],
   "source": [
    "a = 1\n",
    "if a > 2:\n",
    "    print('a lebih besar dari 2')"
   ]
  },
  {
   "cell_type": "code",
   "execution_count": 14,
   "id": "176b4e6e-0902-4ded-9c7a-6f20d6d7610e",
   "metadata": {},
   "outputs": [
    {
     "name": "stdout",
     "output_type": "stream",
     "text": [
      "a lebih kecil dari b\n"
     ]
    }
   ],
   "source": [
    "a = 2\n",
    "b = 3\n",
    "if a > b:\n",
    "    print('a lebih besar dari b')\n",
    "else:\n",
    "    print('a lebih kecil dari b')"
   ]
  },
  {
   "cell_type": "code",
   "execution_count": 16,
   "id": "65fd87e6-b691-4d4e-adf8-e0f77070030e",
   "metadata": {},
   "outputs": [
    {
     "name": "stdout",
     "output_type": "stream",
     "text": [
      "a adalah angka negatif: nilai a adalah -2\n"
     ]
    }
   ],
   "source": [
    "a = -2\n",
    "if a > 0:\n",
    "    print(f'a adalah angka positif: nilai a adalah {a}')\n",
    "elif a == 0:\n",
    "    print('a adalah 0')\n",
    "else:\n",
    "    print(f'a adalah angka negatif: nilai a adalah {a}')"
   ]
  },
  {
   "cell_type": "code",
   "execution_count": 18,
   "id": "17cd73bb-7577-4bff-898d-1202ce67202e",
   "metadata": {},
   "outputs": [],
   "source": [
    "nama = 'Lukman'\n",
    "umur = 24"
   ]
  },
  {
   "cell_type": "code",
   "execution_count": 19,
   "id": "e87905ef-c4dc-478d-b9a4-d623b05a0604",
   "metadata": {},
   "outputs": [
    {
     "name": "stdout",
     "output_type": "stream",
     "text": [
      "nama dan umur cocok!\n"
     ]
    }
   ],
   "source": [
    "if nama == 'Lukman' and umur == 24:\n",
    "    print('nama dan umur cocok!')\n",
    "elif nama == 'Lukman' or umur == 26:\n",
    "    print('nama atau umur cocok')\n",
    "else:\n",
    "    print('nama & umur tidak cocok')"
   ]
  },
  {
   "cell_type": "code",
   "execution_count": 21,
   "id": "4ac9e157-dd88-4da5-b965-8c635ce086c1",
   "metadata": {},
   "outputs": [
    {
     "name": "stdout",
     "output_type": "stream",
     "text": [
      "nama cocok, tapi umur tidak cocok\n"
     ]
    }
   ],
   "source": [
    "if nama == 'Lukman' and umur == 26:\n",
    "    print('nama dan umur cocok!')\n",
    "elif nama == 'Lukman' and umur != 26:\n",
    "    print('nama cocok, tapi umur tidak cocok')\n",
    "elif nama != 'Lukman' and umur == 26:\n",
    "    print('nama tidak cocok, tapi umur cocok')\n",
    "else:\n",
    "    print('nama & umur tidak cocok')"
   ]
  },
  {
   "cell_type": "code",
   "execution_count": 22,
   "id": "c1b9671c-9951-4e9e-bd80-ec4a95b032c3",
   "metadata": {},
   "outputs": [],
   "source": [
    "a = 9.3"
   ]
  },
  {
   "cell_type": "code",
   "execution_count": 28,
   "id": "6d559b6d-4d6b-411a-907c-ca490d3b0485",
   "metadata": {},
   "outputs": [
    {
     "name": "stdout",
     "output_type": "stream",
     "text": [
      "a adalah selain string dan int\n"
     ]
    }
   ],
   "source": [
    "if isinstance(a,int):\n",
    "    if a > 0:\n",
    "        if a >= 5:\n",
    "            print(f'a adalah angka positif lebih dari sama dengan 5. Nilai a adalah {a}')\n",
    "        else:\n",
    "            print(f'a adalah angka positif kurang dari 5. Nilai a adalah {a}')\n",
    "    elif a == 0:\n",
    "        print('a adalah 0')\n",
    "    else:\n",
    "        print(f'a adalah angka negatif: nilai a adalah {a}')\n",
    "elif isinstance(a,str):\n",
    "    print('a adalah string')\n",
    "else:\n",
    "    print('a adalah selain string dan int')"
   ]
  },
  {
   "cell_type": "code",
   "execution_count": 29,
   "id": "315909f6-9a54-4e36-b51c-7b2200711bdb",
   "metadata": {},
   "outputs": [],
   "source": [
    "list_buah = ['apel', 'anggur', 'belimbing', 'ceri', 'duren']"
   ]
  },
  {
   "cell_type": "code",
   "execution_count": 32,
   "id": "aa55df2e-d837-49ab-aac1-08a16543de73",
   "metadata": {},
   "outputs": [
    {
     "name": "stdout",
     "output_type": "stream",
     "text": [
      "apel\n",
      "anggur\n",
      "belimbing\n",
      "ceri\n",
      "duren\n"
     ]
    }
   ],
   "source": [
    "for value in list_buah:\n",
    "    print(value)"
   ]
  },
  {
   "cell_type": "code",
   "execution_count": 33,
   "id": "d0ace345-c0ea-485a-9193-ef635ce9c250",
   "metadata": {},
   "outputs": [
    {
     "name": "stdout",
     "output_type": "stream",
     "text": [
      "<class 'range'>\n",
      "range(0, 8)\n"
     ]
    }
   ],
   "source": [
    "var_range = range(8)\n",
    "print(type(var_range))\n",
    "print(var_range)"
   ]
  },
  {
   "cell_type": "code",
   "execution_count": 34,
   "id": "db613237-45d9-409b-aaeb-5bfdea73c696",
   "metadata": {},
   "outputs": [
    {
     "name": "stdout",
     "output_type": "stream",
     "text": [
      "[0, 1, 2, 3, 4, 5, 6, 7]\n"
     ]
    }
   ],
   "source": [
    "print(list(var_range))"
   ]
  },
  {
   "cell_type": "code",
   "execution_count": 36,
   "id": "e4bca19f-d869-4b17-9d18-ceb5ebd79cd8",
   "metadata": {},
   "outputs": [
    {
     "name": "stdout",
     "output_type": "stream",
     "text": [
      "0\n",
      "1\n",
      "2\n",
      "3\n",
      "4\n",
      "5\n",
      "6\n",
      "7\n"
     ]
    }
   ],
   "source": [
    "for idx in range(8):\n",
    "    print(idx)"
   ]
  },
  {
   "cell_type": "code",
   "execution_count": 37,
   "id": "e3e9881c-3e2b-4eba-9f4f-ec8f8fb9e245",
   "metadata": {},
   "outputs": [
    {
     "name": "stdout",
     "output_type": "stream",
     "text": [
      "5\n"
     ]
    }
   ],
   "source": [
    "print(len(list_buah))"
   ]
  },
  {
   "cell_type": "code",
   "execution_count": 39,
   "id": "a16db7d9-a37f-4a5f-b9ac-63deb3574b93",
   "metadata": {},
   "outputs": [
    {
     "name": "stdout",
     "output_type": "stream",
     "text": [
      "0\n",
      "1\n",
      "2\n",
      "3\n",
      "4\n"
     ]
    }
   ],
   "source": [
    "for idx in range(len(list_buah)):\n",
    "    print(idx)"
   ]
  },
  {
   "cell_type": "code",
   "execution_count": 41,
   "id": "0a4a982c-2618-437f-a8b8-9adbd6ea116b",
   "metadata": {},
   "outputs": [
    {
     "name": "stdout",
     "output_type": "stream",
     "text": [
      "apel\n",
      "anggur\n",
      "belimbing\n",
      "ceri\n"
     ]
    }
   ],
   "source": [
    "print(list_buah[0])\n",
    "print(list_buah[1])\n",
    "print(list_buah[2])\n",
    "print(list_buah[3])"
   ]
  },
  {
   "cell_type": "code",
   "execution_count": 43,
   "id": "ce697f31-6f82-40d8-803a-42b166e5fbc7",
   "metadata": {},
   "outputs": [
    {
     "name": "stdout",
     "output_type": "stream",
     "text": [
      "0 apel\n",
      "1 anggur\n",
      "2 belimbing\n",
      "3 ceri\n",
      "4 duren\n"
     ]
    }
   ],
   "source": [
    "for idx in range(len(list_buah)):\n",
    "    print(idx, list_buah[idx])"
   ]
  },
  {
   "cell_type": "code",
   "execution_count": 45,
   "id": "00588ab7-c182-483e-bd83-7f32ece848ed",
   "metadata": {},
   "outputs": [
    {
     "name": "stdout",
     "output_type": "stream",
     "text": [
      "0\n",
      "1\n",
      "2\n",
      "3\n",
      "index ke-3 BUKAN belimbing\n",
      "4\n"
     ]
    }
   ],
   "source": [
    "for idx in range(len(list_buah)):\n",
    "    print(idx)\n",
    "    if idx == 3:\n",
    "        if list_buah[3] == 'belimbing':\n",
    "            print('index ke-3 adalah belimbing!')\n",
    "        else:\n",
    "            print('index ke-3 BUKAN belimbing')\n"
   ]
  },
  {
   "cell_type": "code",
   "execution_count": 46,
   "id": "6245985e-4b33-4ce7-9c13-60a267d5e0f8",
   "metadata": {},
   "outputs": [
    {
     "name": "stdout",
     "output_type": "stream",
     "text": [
      "index ke-3 BUKAN belimbing\n"
     ]
    }
   ],
   "source": [
    "for idx, value in enumerate(list_buah):\n",
    "    if idx == 3:\n",
    "        if value == 'belimbing':\n",
    "            print('index ke-3 adalah belimbing!')\n",
    "        else:\n",
    "            print('index ke-3 BUKAN belimbing')"
   ]
  },
  {
   "cell_type": "code",
   "execution_count": 48,
   "id": "ce063527-ed59-4303-88cd-f80b2d210216",
   "metadata": {},
   "outputs": [
    {
     "name": "stdout",
     "output_type": "stream",
     "text": [
      "5 apel\n",
      "6 anggur\n",
      "7 belimbing\n",
      "8 ceri\n",
      "9 duren\n"
     ]
    }
   ],
   "source": [
    "for idx, value in enumerate(list_buah, start=5):\n",
    "    print(idx, value)"
   ]
  },
  {
   "cell_type": "code",
   "execution_count": 49,
   "id": "dea6f407-3c9b-448c-9ca2-18ae69f28f85",
   "metadata": {},
   "outputs": [
    {
     "name": "stdout",
     "output_type": "stream",
     "text": [
      "0\n",
      "1\n",
      "2\n",
      "3\n",
      "4\n",
      "5\n"
     ]
    }
   ],
   "source": [
    "a = 0\n",
    "b = 5\n",
    "\n",
    "while a <= b:\n",
    "    print(a)\n",
    "    a = a + 1"
   ]
  },
  {
   "cell_type": "code",
   "execution_count": 51,
   "id": "47ae0f93-3ebe-45c5-9eba-35726c9bb408",
   "metadata": {},
   "outputs": [
    {
     "name": "stdout",
     "output_type": "stream",
     "text": [
      "0\n",
      "1\n",
      "2\n",
      "3\n",
      "4\n",
      "5\n",
      "a skrg sudah lebih dari b\n"
     ]
    }
   ],
   "source": [
    "a = 0\n",
    "b = 5\n",
    "\n",
    "while a <= b:\n",
    "    print(a)\n",
    "    a = a + 1\n",
    "else:\n",
    "    print('a skrg sudah lebih dari b')"
   ]
  },
  {
   "cell_type": "code",
   "execution_count": 53,
   "id": "79557acd-69e6-49ab-9062-7d95364ce040",
   "metadata": {},
   "outputs": [
    {
     "name": "stdout",
     "output_type": "stream",
     "text": [
      "True\n",
      "True\n",
      "True\n"
     ]
    }
   ],
   "source": [
    "is_found = True\n",
    "idx = 0\n",
    "\n",
    "while is_found is True:\n",
    "    print(is_found)\n",
    "    idx += 1\n",
    "    \n",
    "    if idx == 3:\n",
    "        is_found = False"
   ]
  },
  {
   "cell_type": "code",
   "execution_count": null,
   "id": "2ebe86b4-57c2-4f37-9bb7-aec8ba8eb1a4",
   "metadata": {},
   "outputs": [],
   "source": [
    "namaku = \"\"\n",
    "# Selalu jadi string\n",
    "while namaku == \"\":\n",
    "    namaku = input(\"Masukkan namamu : \")\n",
    "tahun_kelahiran = int(input(\"Masukkan tahun kelahiran : \"))\n",
    "tahun_sekarang = 2022\n",
    "\n",
    "print(\"Namaku\", namaku)\n",
    "print(\"Umurku\", tahun_sekarang - tahun_kelahiran)"
   ]
  },
  {
   "cell_type": "code",
   "execution_count": 58,
   "id": "a7b267de-6c31-4b01-a845-81417290aa91",
   "metadata": {},
   "outputs": [
    {
     "name": "stdout",
     "output_type": "stream",
     "text": [
      "index = 0\n",
      "index = 1\n",
      "index = 2\n",
      "index = 3\n",
      "index = 4\n"
     ]
    }
   ],
   "source": [
    "for idx in range(5):\n",
    "    if idx == 3:\n",
    "        pass\n",
    "    print(f'index = {idx}')"
   ]
  },
  {
   "cell_type": "code",
   "execution_count": 60,
   "id": "62e5ddc6-71cc-4c4d-b6c0-6ec3b6aca67d",
   "metadata": {},
   "outputs": [
    {
     "name": "stdout",
     "output_type": "stream",
     "text": [
      "index = 0\n",
      "index = 1\n",
      "index = 2\n"
     ]
    }
   ],
   "source": [
    "for idx in range(len(list_buah)):\n",
    "    if idx == 3:\n",
    "        break\n",
    "    print(f'index = {idx}')"
   ]
  },
  {
   "cell_type": "code",
   "execution_count": 63,
   "id": "7cf802ee-f673-46be-97a8-cbe8bc7e2ed3",
   "metadata": {},
   "outputs": [
    {
     "name": "stdout",
     "output_type": "stream",
     "text": [
      "a: 0\n",
      "a: 1\n",
      "a: 2\n"
     ]
    }
   ],
   "source": [
    "a = 0\n",
    "b = 5\n",
    "\n",
    "while a <= b:\n",
    "    print(f'a: {a}')\n",
    "    a = a + 1\n",
    "\n",
    "    if a == 3:\n",
    "        break"
   ]
  },
  {
   "cell_type": "code",
   "execution_count": 65,
   "id": "bd54ccf5-224a-469c-8306-a298338530c7",
   "metadata": {},
   "outputs": [
    {
     "name": "stdout",
     "output_type": "stream",
     "text": [
      "True\n",
      "True\n",
      "True\n"
     ]
    }
   ],
   "source": [
    "idx = 0\n",
    "\n",
    "while True:\n",
    "    print(True)\n",
    "    idx += 1\n",
    "\n",
    "    if idx == 3:\n",
    "        break"
   ]
  },
  {
   "cell_type": "code",
   "execution_count": 67,
   "id": "38609484-c4fb-46ca-97c8-e1e3e59ce52c",
   "metadata": {},
   "outputs": [
    {
     "name": "stdout",
     "output_type": "stream",
     "text": [
      "index = 0\n",
      "index = 1\n",
      "index = 2\n",
      "index = 4\n"
     ]
    }
   ],
   "source": [
    "for idx in range(5):\n",
    "    if idx == 3:\n",
    "        continue\n",
    "    print(f'index = {idx}')"
   ]
  },
  {
   "cell_type": "code",
   "execution_count": 68,
   "id": "1b535ca0-22ed-4e3f-9706-771af259a8a7",
   "metadata": {},
   "outputs": [],
   "source": [
    "list_of_dicts = [\n",
    "    {'nama': 'agi', 'umur': 20},\n",
    "    {'nama': 'budi', 'umur': 30},\n",
    "    {'nama': 'anton', 'umur': 40}\n",
    "]"
   ]
  },
  {
   "cell_type": "code",
   "execution_count": 70,
   "id": "ab9966da-39a7-417d-9169-2263406ac9e9",
   "metadata": {},
   "outputs": [
    {
     "name": "stdout",
     "output_type": "stream",
     "text": [
      "{'nama': 'agi', 'umur': 20}\n",
      "{'nama': 'budi', 'umur': 30}\n",
      "{'nama': 'anton', 'umur': 40}\n"
     ]
    }
   ],
   "source": [
    "for list_of_dict in list_of_dicts:\n",
    "    print(list_of_dict)"
   ]
  },
  {
   "cell_type": "code",
   "execution_count": 71,
   "id": "a61b25ff-3e4b-4b06-8a3b-e218776b9842",
   "metadata": {},
   "outputs": [
    {
     "name": "stdout",
     "output_type": "stream",
     "text": [
      "0 20\n",
      "1 30\n",
      "2 40\n"
     ]
    }
   ],
   "source": [
    "for idx, val in enumerate(list_of_dicts):\n",
    "    print(idx, val['umur'])"
   ]
  },
  {
   "cell_type": "code",
   "execution_count": 72,
   "id": "392081d4-e5f1-45d8-84bc-a1077441537b",
   "metadata": {},
   "outputs": [
    {
     "name": "stdout",
     "output_type": "stream",
     "text": [
      "('nama', 'agi')\n",
      "('umur', 20)\n",
      "('nama', 'budi')\n",
      "('umur', 30)\n",
      "('nama', 'anton')\n",
      "('umur', 40)\n"
     ]
    }
   ],
   "source": [
    "for list_of_dict in list_of_dicts:\n",
    "    for value in list_of_dict.items():\n",
    "        print(value)"
   ]
  },
  {
   "cell_type": "code",
   "execution_count": 73,
   "id": "49fd5834-9570-4794-b8a6-3d295de6f8be",
   "metadata": {},
   "outputs": [],
   "source": [
    "dict_user = {'nama': 'agi', 'umur': 20, 'sudah_menikah': False, 'alamat': 'jl. selatan no 99'}"
   ]
  },
  {
   "cell_type": "code",
   "execution_count": 74,
   "id": "e4a8e1eb-131e-45b9-97a5-9b6f733c8819",
   "metadata": {},
   "outputs": [
    {
     "name": "stdout",
     "output_type": "stream",
     "text": [
      "('nama', 'agi')\n",
      "('umur', 20)\n",
      "('sudah_menikah', False)\n",
      "('alamat', 'jl. selatan no 99')\n"
     ]
    }
   ],
   "source": [
    "for value in dict_user.items():\n",
    "    print(value)"
   ]
  }
 ],
 "metadata": {
  "kernelspec": {
   "display_name": "Python 3 (ipykernel)",
   "language": "python",
   "name": "python3"
  },
  "language_info": {
   "codemirror_mode": {
    "name": "ipython",
    "version": 3
   },
   "file_extension": ".py",
   "mimetype": "text/x-python",
   "name": "python",
   "nbconvert_exporter": "python",
   "pygments_lexer": "ipython3",
   "version": "3.9.16"
  }
 },
 "nbformat": 4,
 "nbformat_minor": 5
}
