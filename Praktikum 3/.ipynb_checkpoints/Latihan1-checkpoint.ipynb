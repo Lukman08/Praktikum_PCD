{
 "cells": [
  {
   "cell_type": "code",
   "execution_count": 1,
   "id": "9a8476d3-a2bc-4cf0-984d-886d586c7884",
   "metadata": {},
   "outputs": [],
   "source": [
    "list_of_dicts = [\n",
    "    {'nama': 'agus', 'nilai': 83},\n",
    "    {'nama': 'sari', 'nilai': 85},\n",
    "    {'nama': 'putri', 'nilai': 68},\n",
    "    {'nama': 'bambang', 'nilai': 65}\n",
    "]"
   ]
  },
  {
   "cell_type": "code",
   "execution_count": 2,
   "id": "3f7afd94-201d-41c1-b4b9-d11fc83771e8",
   "metadata": {},
   "outputs": [
    {
     "name": "stdout",
     "output_type": "stream",
     "text": [
      "{'nama': 'agus', 'nilai': 83}\n",
      "{'nama': 'sari', 'nilai': 85}\n",
      "{'nama': 'putri', 'nilai': 68}\n",
      "{'nama': 'bambang', 'nilai': 65}\n"
     ]
    }
   ],
   "source": [
    "for list_of_dict in list_of_dicts:\n",
    "    print(list_of_dict)"
   ]
  },
  {
   "cell_type": "code",
   "execution_count": 5,
   "id": "98019bf4-162f-4efa-a5aa-d2452774cefe",
   "metadata": {},
   "outputs": [
    {
     "name": "stdout",
     "output_type": "stream",
     "text": [
      "[['agus', 83], ['sari', 85], ['putri', 68], ['bambang', 65]]\n"
     ]
    }
   ],
   "source": [
    "nama = [['agus', 83], ['sari', 85], ['putri', 68], ['bambang', 65]]\n",
    "\n",
    "print(nama)"
   ]
  },
  {
   "cell_type": "code",
   "execution_count": 3,
   "id": "d3120d2c-9037-4088-b5e5-d93b3aa31f99",
   "metadata": {},
   "outputs": [
    {
     "name": "stdout",
     "output_type": "stream",
     "text": [
      "siswa bernama agus dgn nilai mtk: 83 , dinyatakan LULUS!\n",
      "siswa bernama sari dgn nilai mtk: 85 , dinyatakan LULUS!\n",
      "siswa bernama putri dgn nilai mtk: 68 , dinyatakan TIDAK lulus!\n",
      "siswa bernama bambang dgn nilai mtk: 65 , dinyatakan TIDAK lulus!\n"
     ]
    }
   ],
   "source": [
    "data = [(\"agus\", 83), (\"sari\", 85), (\"putri\", 68), (\"bambang\", 65)]\n",
    "for item in data:\n",
    "    name, score = item\n",
    "    if score >= 70:\n",
    "        print(\"siswa bernama\", name, \"dgn nilai mtk:\", score, \", dinyatakan LULUS!\")\n",
    "    else:\n",
    "        print(\"siswa bernama\", name, \"dgn nilai mtk:\", score, \", dinyatakan TIDAK lulus!\")"
   ]
  },
  {
   "cell_type": "code",
   "execution_count": 4,
   "id": "8d2c3010-a5a2-465d-ad87-f2df1834613a",
   "metadata": {},
   "outputs": [
    {
     "name": "stdout",
     "output_type": "stream",
     "text": [
      "['agus', 'sari']\n",
      "['putri', 'bambang']\n"
     ]
    }
   ],
   "source": [
    "data = [(\"agus\", 83), (\"sari\", 85), (\"putri\", 68), (\"bambang\", 65)]\n",
    "lulus = [name for name, score in data if score >= 70]\n",
    "tidak_lulus = [name for name, score in data if score < 70]\n",
    "print(lulus)\n",
    "print(tidak_lulus)"
   ]
  }
 ],
 "metadata": {
  "kernelspec": {
   "display_name": "Python 3 (ipykernel)",
   "language": "python",
   "name": "python3"
  },
  "language_info": {
   "codemirror_mode": {
    "name": "ipython",
    "version": 3
   },
   "file_extension": ".py",
   "mimetype": "text/x-python",
   "name": "python",
   "nbconvert_exporter": "python",
   "pygments_lexer": "ipython3",
   "version": "3.9.16"
  }
 },
 "nbformat": 4,
 "nbformat_minor": 5
}
