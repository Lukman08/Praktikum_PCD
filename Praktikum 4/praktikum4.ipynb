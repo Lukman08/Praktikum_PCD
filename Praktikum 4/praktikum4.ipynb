{
 "cells": [
  {
   "cell_type": "code",
   "execution_count": 2,
   "id": "ab13490e-7bf6-4c81-85d9-8dcbaf6f7df4",
   "metadata": {},
   "outputs": [],
   "source": [
    "def message():\n",
    "    \"\"\"message function untuk menuliskan pesan\"\"\"\n",
    "    print(\"Please, Enter a value: \")\n",
    "    a = 10\n",
    "    print(a)"
   ]
  },
  {
   "cell_type": "code",
   "execution_count": 4,
   "id": "e6bc5fa9-324c-49aa-b132-58293b08ea9d",
   "metadata": {},
   "outputs": [
    {
     "name": "stdout",
     "output_type": "stream",
     "text": [
      "Please, Enter a value: \n",
      "10\n"
     ]
    }
   ],
   "source": [
    "message()"
   ]
  },
  {
   "cell_type": "code",
   "execution_count": 5,
   "id": "b4fca171-9960-4372-926f-62b7c58a37dc",
   "metadata": {},
   "outputs": [
    {
     "name": "stdout",
     "output_type": "stream",
     "text": [
      "Please, Enter a value: \n",
      "10\n",
      "None\n"
     ]
    }
   ],
   "source": [
    "users = message()\n",
    "print(users)"
   ]
  },
  {
   "cell_type": "code",
   "execution_count": 7,
   "id": "b7bda7d7-645b-4466-ab38-4f2515e7aa7c",
   "metadata": {},
   "outputs": [
    {
     "data": {
      "text/plain": [
       "'message function untuk menuliskan pesan'"
      ]
     },
     "execution_count": 7,
     "metadata": {},
     "output_type": "execute_result"
    }
   ],
   "source": [
    "message.__doc__"
   ]
  },
  {
   "cell_type": "code",
   "execution_count": 8,
   "id": "fd07fd1a-8d56-4559-83cb-6657be2a79ae",
   "metadata": {},
   "outputs": [],
   "source": [
    "# variabel global\n",
    "a = 1\n",
    "b = 11\n",
    "\n",
    "def print_var():\n",
    "    \"\"\"this function will print a variable\"\"\"\n",
    "    \n",
    "    a = 2\n",
    "    b = b + 4\n",
    "    c = b\n",
    "    \n",
    "    print(f' [inside function] local variable a: {a}')\n",
    "    print(f' [inside function] global variable b: {b}')\n",
    "    print(c)"
   ]
  },
  {
   "cell_type": "code",
   "execution_count": 9,
   "id": "fac5f0e8-ea57-4076-947e-3975931b6fb3",
   "metadata": {},
   "outputs": [
    {
     "ename": "NameError",
     "evalue": "name 'print_var' is not defined",
     "output_type": "error",
     "traceback": [
      "\u001b[1;31m---------------------------------------------------------------------------\u001b[0m",
      "\u001b[1;31mNameError\u001b[0m                                 Traceback (most recent call last)",
      "\u001b[1;32m~\\AppData\\Local\\Temp\\ipykernel_1532\\3225931511.py\u001b[0m in \u001b[0;36m<module>\u001b[1;34m\u001b[0m\n\u001b[1;32m----> 1\u001b[1;33m \u001b[0mprint_var\u001b[0m\u001b[1;33m(\u001b[0m\u001b[1;33m)\u001b[0m\u001b[1;33m\u001b[0m\u001b[1;33m\u001b[0m\u001b[0m\n\u001b[0m",
      "\u001b[1;31mNameError\u001b[0m: name 'print_var' is not defined"
     ]
    }
   ],
   "source": [
    "print_var()"
   ]
  },
  {
   "cell_type": "code",
   "execution_count": 10,
   "id": "6db08638-4672-4497-bd5d-172b8179ae51",
   "metadata": {},
   "outputs": [],
   "source": [
    "# variable global\n",
    "a = 1\n",
    "b = 11\n",
    "\n",
    "def print_var():\n",
    "    \"\"\"fungsi ini menampilkan variable\"\"\"\n",
    "    \n",
    "    a = 2\n",
    "    # b = b + 4\n",
    "    c = b\n",
    "    \n",
    "    print(f'[inside function] local variable a: {a}')\n",
    "    print(f'[inside function] global variable b: {b}')\n",
    "    print(c)"
   ]
  },
  {
   "cell_type": "code",
   "execution_count": 11,
   "id": "83558d96-aeb2-4e34-9bfd-d47e67b213d8",
   "metadata": {},
   "outputs": [
    {
     "name": "stdout",
     "output_type": "stream",
     "text": [
      "[inside function] local variable a: 2\n",
      "[inside function] global variable b: 11\n",
      "11\n"
     ]
    }
   ],
   "source": [
    "print_var()"
   ]
  },
  {
   "cell_type": "code",
   "execution_count": 12,
   "id": "3d741a94-90c0-4cb2-96fb-5fcf623c4b03",
   "metadata": {},
   "outputs": [
    {
     "name": "stdout",
     "output_type": "stream",
     "text": [
      "global variable a: 1\n",
      "11\n"
     ]
    }
   ],
   "source": [
    "print(f'global variable a: {a}')\n",
    "print(b)"
   ]
  },
  {
   "cell_type": "code",
   "execution_count": 15,
   "id": "9ed8e2b4-c573-4a5d-89c6-ef29ccd2adce",
   "metadata": {},
   "outputs": [],
   "source": [
    "a = 1\n",
    "\n",
    "def print_var():\n",
    "    \"\"\"fungsi ini menampilkan variable\"\"\"\n",
    "    \n",
    "    global a\n",
    "    a = 2\n",
    "    \n",
    "    print(f'[inside function] global variable a: {a}')"
   ]
  },
  {
   "cell_type": "code",
   "execution_count": 16,
   "id": "ba1d1b1d-c29e-4835-86ee-87e79779d6e7",
   "metadata": {},
   "outputs": [
    {
     "name": "stdout",
     "output_type": "stream",
     "text": [
      "[inside function] global variable a: 2\n",
      "global variable a: 2\n"
     ]
    }
   ],
   "source": [
    "print_var()\n",
    "\n",
    "print(f'global variable a: {a}')"
   ]
  },
  {
   "cell_type": "code",
   "execution_count": 17,
   "id": "e888d753-a16e-43f3-8658-655eb0e9749c",
   "metadata": {},
   "outputs": [
    {
     "name": "stdout",
     "output_type": "stream",
     "text": [
      "pesan:  HELLO\n",
      "pesan:  HELLO JUGA\n"
     ]
    }
   ],
   "source": [
    "def message(m):\n",
    "    print(\"pesan: \",m.upper())\n",
    "    \n",
    "message(\"Hello\")\n",
    "message(\"Hello juga\")"
   ]
  },
  {
   "cell_type": "code",
   "execution_count": 19,
   "id": "3e0152bd-c148-483c-87fd-e8bed01b516f",
   "metadata": {},
   "outputs": [
    {
     "name": "stdout",
     "output_type": "stream",
     "text": [
      "Enter telephone number 11\n",
      "Enter price number 5\n",
      "Enter number number number\n"
     ]
    }
   ],
   "source": [
    "def message(what, number):\n",
    "    print(\"Enter\", what, \"number\", number)\n",
    "    \n",
    "message(\"telephone\", 11)\n",
    "message(\"price\", 5)\n",
    "message(\"number\", \"number\")"
   ]
  },
  {
   "cell_type": "code",
   "execution_count": 20,
   "id": "d1135869-0a3e-4361-b36c-508830f26593",
   "metadata": {},
   "outputs": [
    {
     "name": "stdout",
     "output_type": "stream",
     "text": [
      "Adi 5.6\n"
     ]
    }
   ],
   "source": [
    "def tambahUmur(nama, umur):\n",
    "    umur = umur + 0.5\n",
    "    print(nama, umur)\n",
    "    \n",
    "tambahUmur(\"Adi\", 5.1)"
   ]
  },
  {
   "cell_type": "code",
   "execution_count": 21,
   "id": "e3f7b54d-3d96-4746-b1c3-ea93283511f8",
   "metadata": {},
   "outputs": [
    {
     "name": "stdout",
     "output_type": "stream",
     "text": [
      "Hello, Nama saya Jonny Kidun\n",
      "Hello, Nama saya Lucky Masnun\n",
      "Hello, Nama saya Jesse Munaroh\n",
      "Hello, Nama saya Clark Misneh\n"
     ]
    }
   ],
   "source": [
    "def introduction(firstName, lastName):\n",
    "    print(\"Hello, Nama saya\", firstName, lastName)\n",
    "    \n",
    "introduction(\"Jonny\", \"Kidun\")\n",
    "introduction(\"Lucky\", \"Masnun\")\n",
    "introduction(\"Jesse\", \"Munaroh\")\n",
    "introduction(\"Clark\", \"Misneh\")"
   ]
  },
  {
   "cell_type": "code",
   "execution_count": 24,
   "id": "ee94e2a5-edb0-4bea-8dcd-d575f74e77b7",
   "metadata": {},
   "outputs": [
    {
     "name": "stdout",
     "output_type": "stream",
     "text": [
      "Hello, Nama saya James Bond\n",
      "Hello, Nama saya Joko Luke\n"
     ]
    }
   ],
   "source": [
    "introduction(firstName = \"James\", lastName = \"Bond\")\n",
    "introduction(firstName = \"Joko\", lastName = \"Luke\")"
   ]
  },
  {
   "cell_type": "code",
   "execution_count": 27,
   "id": "cdb97ddd-5d00-443f-a297-e913c7ea843b",
   "metadata": {},
   "outputs": [
    {
     "name": "stdout",
     "output_type": "stream",
     "text": [
      "5 + 6 + 4 = 15\n"
     ]
    }
   ],
   "source": [
    "def jumlah(a, b, c):\n",
    "    print(a, \"+\", b, \"+\", c, \"=\", a + b + c)\n",
    "    \n",
    "# memanggil fungsi\n",
    "jumlah(5,6,4)"
   ]
  },
  {
   "cell_type": "code",
   "execution_count": 31,
   "id": "12de7d97-0d3b-498c-a2c5-f41858c65d7f",
   "metadata": {},
   "outputs": [
    {
     "name": "stdout",
     "output_type": "stream",
     "text": [
      "haii, nama saya Nandang Rasmit\n"
     ]
    }
   ],
   "source": [
    "def introduction(firstName, lastName=\"Rasmit\"):\n",
    "    print(\"haii, nama saya\", firstName, lastName)\n",
    "    \n",
    "# call the function here\n",
    "introduction(firstName=\"Nandang\")"
   ]
  },
  {
   "cell_type": "code",
   "execution_count": 34,
   "id": "65836f23-c418-40e6-9c18-89b2968b7651",
   "metadata": {},
   "outputs": [
    {
     "name": "stdout",
     "output_type": "stream",
     "text": [
      "haii nama saya James Adi Bond\n"
     ]
    }
   ],
   "source": [
    "def introductionLengkap(firstName, lastName, middleName=\"Adi\"):\n",
    "    print(\"haii nama saya\", firstName, middleName, lastName)\n",
    "    \n",
    "introductionLengkap(firstName = \"James\", lastName = \"Bond\")"
   ]
  },
  {
   "cell_type": "code",
   "execution_count": 35,
   "id": "240e7da4-5ec9-47f6-9bb7-2309ed7c9740",
   "metadata": {},
   "outputs": [],
   "source": [
    "def print_multi_args(*args):\n",
    "    \"\"\"print multiple args\"\"\"\n",
    "    \n",
    "    #print(type(args))\n",
    "    for arg in args:\n",
    "        print(arg)"
   ]
  },
  {
   "cell_type": "code",
   "execution_count": 37,
   "id": "49887ae1-01a4-4d3c-971b-0e01f916ec57",
   "metadata": {},
   "outputs": [
    {
     "name": "stdout",
     "output_type": "stream",
     "text": [
      "1\n",
      "4\n",
      "1\n",
      "76\n",
      "lala\n",
      "lili\n"
     ]
    }
   ],
   "source": [
    "print_multi_args(1,4,1,76, 'lala', 'lili')"
   ]
  },
  {
   "cell_type": "code",
   "execution_count": 38,
   "id": "1f863065-8636-473f-8d31-2bfc569685db",
   "metadata": {},
   "outputs": [
    {
     "name": "stdout",
     "output_type": "stream",
     "text": [
      "nama: budi\n",
      "umur: 23\n",
      "sudah_menikah: False\n",
      "alamat: jl selatan\n"
     ]
    }
   ],
   "source": [
    "def print_multi_key_args(**kwargs):\n",
    "    \"\"\"print multiple keyword args\"\"\"\n",
    "    \n",
    "    #print(type(kwargs))\n",
    "    for key, value in kwargs.items():\n",
    "        print(f'{key}: {value}')\n",
    "        \n",
    "print_multi_key_args(nama='budi', umur='23', sudah_menikah=False, alamat='jl selatan')"
   ]
  },
  {
   "cell_type": "code",
   "execution_count": 43,
   "id": "5372f5a1-1662-4966-b585-9262823137f7",
   "metadata": {},
   "outputs": [
    {
     "name": "stdout",
     "output_type": "stream",
     "text": [
      "boringFungtion mengembalikan hasil. yaitu : 123\n"
     ]
    }
   ],
   "source": [
    "def boringFuncton():\n",
    "    return 123\n",
    "\n",
    "x = boringFuncton()\n",
    "\n",
    "print(\"boringFungtion mengembalikan hasil. yaitu :\", x)"
   ]
  },
  {
   "cell_type": "code",
   "execution_count": 44,
   "id": "95d1c46b-630c-4f33-baed-2248f42e07a2",
   "metadata": {},
   "outputs": [
    {
     "name": "stdout",
     "output_type": "stream",
     "text": [
      "Pelajaran ini menarik!\n",
      "'Boring Mode' ON.\n",
      "Pelajaran ini membosankan\n"
     ]
    }
   ],
   "source": [
    "def boringFunction():\n",
    "    print(\"'Boring Mode' ON.\")\n",
    "    return 123\n",
    "\n",
    "print(\"Pelajaran ini menarik!\")\n",
    "boringFunction()\n",
    "print(\"Pelajaran ini membosankan\")"
   ]
  },
  {
   "cell_type": "code",
   "execution_count": 45,
   "id": "f8db95a5-8c70-4e63-85ec-e7b31a232991",
   "metadata": {},
   "outputs": [
    {
     "name": "stdout",
     "output_type": "stream",
     "text": [
      "7\n"
     ]
    }
   ],
   "source": [
    "def jumlah(a,b):\n",
    "    c = a + b\n",
    "    return c\n",
    "\n",
    "a= jumlah(3,4)\n",
    "print(a)"
   ]
  },
  {
   "cell_type": "code",
   "execution_count": 46,
   "id": "fe4c3658-1088-466e-a03c-ae6f94d571d0",
   "metadata": {},
   "outputs": [
    {
     "name": "stdout",
     "output_type": "stream",
     "text": [
      "True\n",
      "None\n"
     ]
    }
   ],
   "source": [
    "def strangeFunction(n):\n",
    "    if(n % 2 == 0):\n",
    "        return True\n",
    "    \n",
    "print(strangeFunction(4))\n",
    "print(strangeFunction(3))"
   ]
  },
  {
   "cell_type": "code",
   "execution_count": 49,
   "id": "f1282c05-7c0b-4021-8be0-0663088c9362",
   "metadata": {},
   "outputs": [
    {
     "data": {
      "text/plain": [
       "47"
      ]
     },
     "execution_count": 49,
     "metadata": {},
     "output_type": "execute_result"
    }
   ],
   "source": [
    "def sumOfList(lst):\n",
    "    sum = 0\n",
    "    for elem in lst:\n",
    "        sum += elem\n",
    "        \n",
    "    return sum\n",
    "\n",
    "sumOfList([5,2,10,30])"
   ]
  },
  {
   "cell_type": "code",
   "execution_count": 50,
   "id": "64814d62-250b-4fcc-a815-841924cc6296",
   "metadata": {},
   "outputs": [
    {
     "name": "stdout",
     "output_type": "stream",
     "text": [
      "Insert 0\n",
      "[0]\n",
      "Insert 1\n",
      "[1, 0]\n",
      "Insert 2\n",
      "[2, 1, 0]\n",
      "Insert 3\n",
      "[3, 2, 1, 0]\n",
      "Insert 4\n",
      "[4, 3, 2, 1, 0]\n",
      "Hasil =  [4, 3, 2, 1, 0]\n"
     ]
    }
   ],
   "source": [
    "def strangeListFunction(n):\n",
    "    strangeList = []\n",
    "    \n",
    "    for i in range(0, n):\n",
    "        print(\"Insert\",i)\n",
    "        strangeList.insert(0, i)\n",
    "        print(strangeList)\n",
    "        \n",
    "    return strangeList\n",
    "\n",
    "print(\"Hasil = \", strangeListFunction(5))"
   ]
  },
  {
   "cell_type": "code",
   "execution_count": 51,
   "id": "34f38df4-3318-4962-89ed-59467eef4f9e",
   "metadata": {},
   "outputs": [
    {
     "name": "stdout",
     "output_type": "stream",
     "text": [
      "[4, 3, 2, 1, 0]\n"
     ]
    }
   ],
   "source": [
    "def strangeListFunction(n):\n",
    "    strangeList = []\n",
    "    \n",
    "    for i in range(0, n):\n",
    "        strangeList.insert(0,i)\n",
    "        \n",
    "    return strangeList\n",
    "print(strangeListFunction(5))"
   ]
  },
  {
   "cell_type": "code",
   "execution_count": 52,
   "id": "f40edfba-1c48-464e-bec0-85e67adf281f",
   "metadata": {},
   "outputs": [],
   "source": [
    "def pangkat_kuadrat_reguler(nums):\n",
    "    \"\"\"return setiap angka pada nums dipangkat 2\"\"\"\n",
    "    \n",
    "    result = []\n",
    "    for num in nums:\n",
    "        result.append(num ** 2)\n",
    "        \n",
    "    return result"
   ]
  },
  {
   "cell_type": "code",
   "execution_count": 55,
   "id": "d95a7243-a779-494b-9d30-e46acba94c9c",
   "metadata": {},
   "outputs": [
    {
     "name": "stdout",
     "output_type": "stream",
     "text": [
      "[1, 4, 9, 16, 25, 36, 49]\n"
     ]
    }
   ],
   "source": [
    "ls = [1,2,3,4,5,6,7]\n",
    "\n",
    "result = pangkat_kuadrat_reguler(ls)\n",
    "\n",
    "print(result)"
   ]
  },
  {
   "cell_type": "code",
   "execution_count": 56,
   "id": "1f8f4891-3bc5-428f-8d36-4142f36f6b9d",
   "metadata": {},
   "outputs": [],
   "source": [
    "def pangkat_kuadrat_map(num):\n",
    "    \"\"\"return num dipangkat 2\"\"\"\n",
    "    \n",
    "    return num ** 2"
   ]
  },
  {
   "cell_type": "code",
   "execution_count": 57,
   "id": "ccb8fa05-662a-4ae6-b018-93dba533b3f5",
   "metadata": {},
   "outputs": [],
   "source": [
    "ls = [1,2,3,4,5,6,7]"
   ]
  },
  {
   "cell_type": "code",
   "execution_count": 58,
   "id": "e2e9e095-93b4-419c-899f-d6e36af19596",
   "metadata": {},
   "outputs": [
    {
     "data": {
      "text/plain": [
       "[1, 4, 9, 16, 25, 36, 49]"
      ]
     },
     "execution_count": 58,
     "metadata": {},
     "output_type": "execute_result"
    }
   ],
   "source": [
    "result_pangkat = map(pangkat_kuadrat_map, ls)\n",
    "\n",
    "list(result_pangkat)"
   ]
  },
  {
   "cell_type": "code",
   "execution_count": 60,
   "id": "7e4abaaa-6267-4828-8812-9e709a5703f2",
   "metadata": {},
   "outputs": [
    {
     "name": "stdout",
     "output_type": "stream",
     "text": [
      "[1, 4, 9, 16, 25, 36, 49]\n"
     ]
    }
   ],
   "source": [
    "result = list(map(pangkat_kuadrat_map, ls))\n",
    "\n",
    "print(result)"
   ]
  },
  {
   "cell_type": "code",
   "execution_count": 61,
   "id": "60331237-605a-4249-bd81-900559ec1719",
   "metadata": {},
   "outputs": [],
   "source": [
    "def find_odd_number_regular(nums):\n",
    "    \"\"\"loop over 'nums' and return only the odd numbers\"\"\"\n",
    "    \n",
    "    result = []\n",
    "    for num in nums:\n",
    "        if num % 2 == 0:\n",
    "            result.append(num)\n",
    "            \n",
    "    return result"
   ]
  },
  {
   "cell_type": "code",
   "execution_count": 62,
   "id": "9226213f-8ec6-42e0-96e3-64d9c9defa89",
   "metadata": {},
   "outputs": [
    {
     "name": "stdout",
     "output_type": "stream",
     "text": [
      "[2, 4, 6]\n"
     ]
    }
   ],
   "source": [
    "ls = [1,2,3,4,5,6,7]\n",
    "\n",
    "result = find_odd_number_regular(ls)\n",
    "print(result)"
   ]
  },
  {
   "cell_type": "code",
   "execution_count": 63,
   "id": "1b37a1af-6dda-4f7d-a022-241010fff6ff",
   "metadata": {},
   "outputs": [],
   "source": [
    "def find_odd_number_filter(num):\n",
    "    \"\"\"return if num is odd number\"\"\"\n",
    "    \n",
    "    if num % 2 == 0:\n",
    "        return True\n",
    "    else:\n",
    "        return False"
   ]
  },
  {
   "cell_type": "code",
   "execution_count": 64,
   "id": "11a3041e-5cba-4cb3-a488-9796216ea004",
   "metadata": {},
   "outputs": [],
   "source": [
    "def find_odd_number_filter(num):\n",
    "    \"\"\"return if num is odd number\"\"\"\n",
    "    \n",
    "    return num % 2 == 0"
   ]
  },
  {
   "cell_type": "code",
   "execution_count": 65,
   "id": "b5a7b9aa-2bd3-4d7c-a5e7-2ffc67d7eda4",
   "metadata": {},
   "outputs": [
    {
     "name": "stdout",
     "output_type": "stream",
     "text": [
      "[2, 4, 6]\n"
     ]
    }
   ],
   "source": [
    "ls = [1,2,3,4,5,6,7]\n",
    "\n",
    "result = list(filter(find_odd_number_filter, ls))\n",
    "print(result)"
   ]
  },
  {
   "cell_type": "code",
   "execution_count": 66,
   "id": "bcec352d-a07c-4e7d-8550-2cca794877c0",
   "metadata": {},
   "outputs": [],
   "source": [
    "def contain_words_regular(words):\n",
    "    \"\"\"loop over 'words' and return if it contins 'selatan'\"\"\"\n",
    "    \n",
    "    result = []\n",
    "    for word in words:\n",
    "        if 'selatan' in word:\n",
    "            result.append(word)\n",
    "            \n",
    "    return result"
   ]
  },
  {
   "cell_type": "code",
   "execution_count": 68,
   "id": "3d85bf96-c817-48b7-b5f7-91b76f3a8eca",
   "metadata": {},
   "outputs": [
    {
     "name": "stdout",
     "output_type": "stream",
     "text": [
      "['sedangkan rumah dia di selatan']\n"
     ]
    }
   ],
   "source": [
    "strings = ['rumahku bertempt di utara', 'rumahmu aku tidak tahu', 'sedangkan rumah dia di selatan']\n",
    "\n",
    "result = contain_words_regular(strings)\n",
    "print(result)"
   ]
  },
  {
   "cell_type": "code",
   "execution_count": 69,
   "id": "ba457d27-1455-40d5-95de-20894a379bbf",
   "metadata": {},
   "outputs": [],
   "source": [
    "def contain_words_filer(word):\n",
    "    \"\"\"return if 'word' contains the 'selatan'\"\"\"\n",
    "    \n",
    "    if 'selatan' in word:\n",
    "        return True\n",
    "    else:\n",
    "        return False"
   ]
  },
  {
   "cell_type": "code",
   "execution_count": 70,
   "id": "8f63b2bd-e598-429b-95be-30323c9f1fe0",
   "metadata": {},
   "outputs": [
    {
     "name": "stdout",
     "output_type": "stream",
     "text": [
      "['sedangkan rumah dia di selatan']\n"
     ]
    }
   ],
   "source": [
    "def contain_words_filer(word):\n",
    "    \"\"\"return if 'word' contains the 'selatan'\"\"\"\n",
    "    \n",
    "    return 'selatan' in word\n",
    "\n",
    "strings = ['rumahku bertempt di utara', 'rumahmu aku tidak tahu', 'sedangkan rumah dia di selatan']\n",
    "\n",
    "result = list(filter(contain_words_filer, strings))\n",
    "print(result)"
   ]
  },
  {
   "cell_type": "markdown",
   "id": "b70ff41e-0124-46ae-a132-913946444b10",
   "metadata": {},
   "source": [
    "## Latihan"
   ]
  },
  {
   "cell_type": "markdown",
   "id": "84e1e87e-b900-4ba5-87a9-aef04f2d555f",
   "metadata": {},
   "source": [
    "### Latihan 1"
   ]
  },
  {
   "cell_type": "code",
   "execution_count": 73,
   "id": "4d7671f7-78c9-4967-ac8d-56ffea1c8cf7",
   "metadata": {},
   "outputs": [
    {
     "name": "stdout",
     "output_type": "stream",
     "text": [
      "1900 ->OK\n",
      "2000 ->OK\n",
      "2016 ->OK\n",
      "1987 ->OK\n"
     ]
    }
   ],
   "source": [
    "def isYearLeap(year):\n",
    "    if (year % 4) == 0:\n",
    "        if (year % 100) == 0:\n",
    "            if (year % 400) == 0:\n",
    "                return True\n",
    "            else:\n",
    "                return False\n",
    "        else:\n",
    "            return True\n",
    "    else:\n",
    "        return False\n",
    "    \n",
    "testData = [1900, 2000, 2016, 1987]\n",
    "testResults = [False, True, True, False]\n",
    "for i in range(len(testData)):\n",
    "    yr = testData[i]\n",
    "    print(yr, \"->\", end=\"\")\n",
    "    result = isYearLeap(yr)\n",
    "    if result == testResults[i]:\n",
    "        print(\"OK\")\n",
    "    else:\n",
    "        print(\"Failed\")"
   ]
  },
  {
   "cell_type": "markdown",
   "id": "14a69abd-1ecd-4e91-9652-1c0f75b91f31",
   "metadata": {},
   "source": [
    "### Latihan 2"
   ]
  },
  {
   "cell_type": "code",
   "execution_count": 75,
   "id": "f6441e07-5308-402e-b191-099d9b912928",
   "metadata": {},
   "outputs": [
    {
     "name": "stdout",
     "output_type": "stream",
     "text": [
      "366\n"
     ]
    }
   ],
   "source": [
    "def isYearLeap(year):\n",
    "    if year % 4 != 0:\n",
    "        return False\n",
    "    elif year % 100 != 0:\n",
    "        return True\n",
    "    elif year % 400 != 0:\n",
    "        return False\n",
    "    else:\n",
    "        return True\n",
    "\n",
    "def daysInMonth(year, month):\n",
    "    if year < 1582 or month < 1 or month > 12:\n",
    "        return None\n",
    "    days = [31, 28, 31, 30, 31, 30, 31, 31, 30, 31, 30, 31]\n",
    "    res  = days[month - 1]\n",
    "    if month == 2 and isYearLeap(year):\n",
    "        res = 29\n",
    "    return res\n",
    "\n",
    "def dayOfYear(year, month, day):\n",
    "    days = 0\n",
    "    for m in range(1, month):\n",
    "        md = daysInMonth(year, m)\n",
    "        if md == None:\n",
    "            return None\n",
    "        days += md\n",
    "    md = daysInMonth(year, month)\n",
    "    if day >= 1 and day <= md:\n",
    "        return days + day\n",
    "    else:\n",
    "        return None\n",
    "\n",
    "print(dayOfYear(2000, 12, 31))"
   ]
  },
  {
   "cell_type": "markdown",
   "id": "10843266-eef8-43e9-ac90-8497a71228d6",
   "metadata": {},
   "source": [
    "### Latihan 3"
   ]
  },
  {
   "cell_type": "code",
   "execution_count": 81,
   "id": "db5f64b8-e30c-40e4-b1ff-fa858e7c61ef",
   "metadata": {},
   "outputs": [
    {
     "name": "stdout",
     "output_type": "stream",
     "text": [
      "60.31143162393162\n",
      "31.36194444444444\n",
      "23.52145833333333\n",
      "3.900739358761747e-06\n",
      "7.4909102972399154e-06\n",
      "1.0009131205673757e-05\n"
     ]
    }
   ],
   "source": [
    "def l100kmtompg(liters):\n",
    "    gallons = liters / 3.785411784 \n",
    "    # 1 mile = \"1.60934\" meters\n",
    "    # 1 km   = 1000 meters .. 1000 * 1.60934 = 1609.344\n",
    "    # 100km = 100 * 1000 meters (The function works on 100 km)\n",
    "    miles = 100 * 1000 / 1609.344\n",
    "    return miles / gallons\n",
    "\n",
    "def mpgtol100km(miles):\n",
    "    km_100 = miles * 1609.344 * 1000 / 100\n",
    "    liters = 3.785411784\n",
    "    return liters / km_100\n",
    "\n",
    "print(l100kmtompg(3.9))\n",
    "print(l100kmtompg(7.5))\n",
    "print(l100kmtompg(10.))\n",
    "print(mpgtol100km(60.3))\n",
    "print(mpgtol100km(31.4))\n",
    "print(mpgtol100km(23.5))"
   ]
  }
 ],
 "metadata": {
  "kernelspec": {
   "display_name": "Python 3 (ipykernel)",
   "language": "python",
   "name": "python3"
  },
  "language_info": {
   "codemirror_mode": {
    "name": "ipython",
    "version": 3
   },
   "file_extension": ".py",
   "mimetype": "text/x-python",
   "name": "python",
   "nbconvert_exporter": "python",
   "pygments_lexer": "ipython3",
   "version": "3.9.16"
  }
 },
 "nbformat": 4,
 "nbformat_minor": 5
}
