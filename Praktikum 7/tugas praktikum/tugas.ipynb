{
 "cells": [
  {
   "cell_type": "markdown",
   "id": "9c300d71-e706-4323-b50d-68173b500f39",
   "metadata": {},
   "source": [
    "### Tugas Praktikum 7\n",
    "#### Lukman Hakim (2005013)\n",
    "##### Tugas 1"
   ]
  },
  {
   "cell_type": "code",
   "execution_count": 1,
   "id": "2a1cf2ed-a3c5-4b0e-8ecd-ef3d3ae242cb",
   "metadata": {},
   "outputs": [],
   "source": [
    "import numpy as np\n",
    "\n",
    "def convolution(image, kernel):\n",
    "    # Membuat variabel untuk menyimpan ukuran gambar dan kernel\n",
    "    image_height, image_width = image.shape\n",
    "    kernel_height, kernel_width = kernel.shape\n",
    "    \n",
    "    # Membuat variabel untuk menyimpan output gambar\n",
    "    output = np.zeros_like(image)\n",
    "    \n",
    "    # Melakukan zero-padding pada gambar\n",
    "    padded_image = np.zeros((image_height + 2, image_width + 2))\n",
    "    padded_image[1:-1, 1:-1] = image\n",
    "    \n",
    "    # Melakukan konvolusi pada gambar dengan kernel\n",
    "    for i in range(image_height):\n",
    "        for j in range(image_width):\n",
    "            output[i, j] = np.sum(kernel * padded_image[i:i+kernel_height, j:j+kernel_width])\n",
    "    \n",
    "    return output"
   ]
  },
  {
   "cell_type": "code",
   "execution_count": 2,
   "id": "4649177d-814e-4ded-a747-ec32631f2d9b",
   "metadata": {},
   "outputs": [
    {
     "name": "stdout",
     "output_type": "stream",
     "text": [
      "[[ -9  -6   9]\n",
      " [-20  -8  20]\n",
      " [-21  -6  21]]\n"
     ]
    }
   ],
   "source": [
    "image = np.array([[1, 2, 3], [4, 5, 6], [7, 8, 9]])\n",
    "kernel = np.array([[1, 0, -1], [2, 0, -2], [1, 0, -1]])\n",
    "\n",
    "output = convolution(image, kernel)\n",
    "\n",
    "print(output)"
   ]
  },
  {
   "cell_type": "markdown",
   "id": "dda9fa9e-819b-42b3-91df-cabab446fdf4",
   "metadata": {},
   "source": [
    "##### Tugas 2"
   ]
  },
  {
   "cell_type": "code",
   "execution_count": 3,
   "id": "aa44eacd-0a99-48de-9eb6-a2e9ba0fb594",
   "metadata": {},
   "outputs": [],
   "source": [
    "import cv2\n",
    "import numpy as np\n",
    "\n",
    "# Membaca gambar\n",
    "img = cv2.imread('noise.jpg')\n",
    "\n",
    "# Membuat kernel untuk proses filtering\n",
    "kernel = np.ones((5, 5), np.float32) / 25\n",
    "\n",
    "# Melakukan filtering pada gambar menggunakan kernel\n",
    "filtered_img = cv2.filter2D(img, -1, kernel)\n",
    "\n",
    "# Menampilkan gambar asli dan hasil filtering\n",
    "cv2.imshow('Original Image', img)\n",
    "cv2.imshow('Filtered Image', filtered_img)\n",
    "\n",
    "# Menunggu input dari user untuk menutup jendela\n",
    "cv2.waitKey(0)\n",
    "\n",
    "# Menutup semua jendela\n",
    "cv2.destroyAllWindows()"
   ]
  }
 ],
 "metadata": {
  "kernelspec": {
   "display_name": "Python 3 (ipykernel)",
   "language": "python",
   "name": "python3"
  },
  "language_info": {
   "codemirror_mode": {
    "name": "ipython",
    "version": 3
   },
   "file_extension": ".py",
   "mimetype": "text/x-python",
   "name": "python",
   "nbconvert_exporter": "python",
   "pygments_lexer": "ipython3",
   "version": "3.9.16"
  }
 },
 "nbformat": 4,
 "nbformat_minor": 5
}
