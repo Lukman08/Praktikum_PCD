{
 "cells": [
  {
   "cell_type": "markdown",
   "id": "26d89e59-2f52-466f-9aa0-7aeafa254474",
   "metadata": {},
   "source": [
    "## Praktikum 7\n",
    "##### Lukman Hakim (2005013)"
   ]
  },
  {
   "cell_type": "markdown",
   "id": "c9787862-2043-42a7-8b0a-56b158230dd2",
   "metadata": {},
   "source": [
    "### Filter Citra Digital\n",
    "#### Low Pass filter (lolos bawah)"
   ]
  },
  {
   "cell_type": "code",
   "execution_count": 1,
   "id": "19ab5b9e-b2f5-4291-8185-e899ab2dcae8",
   "metadata": {},
   "outputs": [],
   "source": [
    "import cv2\n",
    "import numpy as np\n",
    "import matplotlib.pyplot as plt"
   ]
  },
  {
   "cell_type": "code",
   "execution_count": 2,
   "id": "96611135-b8d1-49eb-bcd3-ea4a032b3ef6",
   "metadata": {},
   "outputs": [],
   "source": [
    "citra = cv2.imread('goldhill.jpg', 0)\n",
    "kernel = np.float32([[1, 1, 1],\n",
    "                     [1, 1, 1],\n",
    "                     [1, 1, 1]]) / 9\n",
    "terfilter = cv2.filter2D(citra, -1, kernel)\n",
    "combine = np.hstack((citra, terfilter))"
   ]
  },
  {
   "cell_type": "code",
   "execution_count": 3,
   "id": "5003e1b7-9cbe-45c8-a97f-fff32ac5a5af",
   "metadata": {},
   "outputs": [],
   "source": [
    "# Tampilkan citra asal dan hasilnya\n",
    "cv2.imshow('Hasil', terfilter)\n",
    "cv2.imshow(\"ori\",citra)\n",
    "cv2.imshow(\"Gabungan\",combine)\n",
    "cv2.waitKey(0)\n",
    "cv2.destroyAllWindows()"
   ]
  },
  {
   "cell_type": "markdown",
   "id": "64b68c7c-7380-406c-8d76-224fc309b62a",
   "metadata": {},
   "source": [
    "#### High Pass Filter (lolos atas)"
   ]
  },
  {
   "cell_type": "code",
   "execution_count": 4,
   "id": "8c114910-eeca-4690-bf47-193640a1677a",
   "metadata": {},
   "outputs": [],
   "source": [
    "citra = cv2.imread('goldhill.jpg')\n",
    "jumBaris, jumKolom = citra.shape[:2]\n",
    "\n",
    "citra = cv2.resize(citra,\n",
    "            (int(0.5 * jumBaris), int(0.5 * jumKolom)))\n",
    "\n",
    "kernelA = np.float32([[0, -1, 0],\n",
    "                      [-1, 4, -1],\n",
    "                      [0, -1, 0]])\n",
    "kernelB = np.float32([[-1, -1, -1],\n",
    "                      [-1, 8, -1],\n",
    "                      [-1, -1, -1]])\n",
    "kernelC = np.float32([[1, -2, 1],\n",
    "                      [-2, 4, -2],\n",
    "                      [1, -2, 1]])\n",
    "\n",
    "filterA = cv2.filter2D(citra, -1, kernelA)\n",
    "filterB = cv2.filter2D(citra, -1, kernelB)\n",
    "filterC = cv2.filter2D(citra, -1, kernelC)\n",
    "\n",
    "baris1 = np.hstack((citra, filterA))\n",
    "baris2 = np.hstack((filterB, filterC))\n",
    "\n",
    "hasil = np.vstack((baris1, baris2))"
   ]
  },
  {
   "cell_type": "code",
   "execution_count": 5,
   "id": "31a85efb-dab2-4407-abea-c0bf565c030d",
   "metadata": {},
   "outputs": [],
   "source": [
    "# Tampilkan citra asal dan hasilnya\n",
    "cv2.imshow('Hasil', hasil)\n",
    "cv2.waitKey(0)\n",
    "cv2.destroyAllWindows()"
   ]
  },
  {
   "cell_type": "markdown",
   "id": "548f3388-245d-4336-9a98-f56a1d8de046",
   "metadata": {},
   "source": [
    "#### High Boots"
   ]
  },
  {
   "cell_type": "code",
   "execution_count": 6,
   "id": "edd94adf-eb37-4497-ad0c-aac3ec5ec37b",
   "metadata": {},
   "outputs": [],
   "source": [
    "citra = cv2.imread('simba.jpg')\n",
    "jumBaris, jumKolom = citra.shape[:2]\n",
    "\n",
    "citra = cv2.resize(citra,\n",
    "            (int(0.5 * jumBaris), int(0.5 * jumKolom)))\n",
    "\n",
    "kernelA = np.float32([[-1, -1, -1],\n",
    "                      [-1, 9, -1],\n",
    "                      [-1, -1, -1]])\n",
    "kernelB = np.float32([[-1, -1, -1],\n",
    "                      [-1, 10, -1],\n",
    "                      [-1, -1, -1]])\n",
    "kernelC = np.float32([[-1, -1, -1],\n",
    "                      [-1, 13, -1],\n",
    "                      [-1, -1, -1]])\n",
    "\n",
    "filterA = cv2.filter2D(citra, -1, kernelA)\n",
    "filterB = cv2.filter2D(citra, -1, kernelB)\n",
    "filterC = cv2.filter2D(citra, -1, kernelC)\n",
    "\n",
    "baris1 = np.hstack((citra, filterA))\n",
    "baris2 = np.hstack((filterB, filterC))\n",
    "\n",
    "hasil = np.vstack((baris1, baris2))"
   ]
  },
  {
   "cell_type": "code",
   "execution_count": 7,
   "id": "6d68f814-8a9c-4f1c-a946-08099b03b4b0",
   "metadata": {},
   "outputs": [],
   "source": [
    "# Tampilkan citra asal dan hasilnya\n",
    "cv2.imshow('Hasil', hasil)\n",
    "cv2.waitKey(0)\n",
    "cv2.destroyAllWindows()"
   ]
  },
  {
   "cell_type": "markdown",
   "id": "d4d4f786-9d76-4230-be2f-abe1e1a9f488",
   "metadata": {},
   "source": [
    "#### Filter penebalan garis"
   ]
  },
  {
   "cell_type": "code",
   "execution_count": 8,
   "id": "1b6e4f9b-e613-452d-a44e-9f7115c41ecd",
   "metadata": {},
   "outputs": [],
   "source": [
    "citra = cv2.imread('lena.jpeg', 0 )\n",
    "\n",
    "kernel = np.float32([[0, 0, 0],\n",
    "                    [ 4, 0, -4],\n",
    "                    [ 0, 0, 0]])\n",
    "\n",
    "terfilter = cv2.filter2D(citra, -1, kernel)\n",
    "\n",
    "hasil = np.hstack((citra, terfilter))"
   ]
  },
  {
   "cell_type": "code",
   "execution_count": 9,
   "id": "e69fbd61-d145-4d60-9b8f-44d5326fa507",
   "metadata": {},
   "outputs": [],
   "source": [
    "# Tampilkan citra asal dan hasilnya\n",
    "cv2.imshow('Hasil', hasil)\n",
    "cv2.waitKey(0)\n",
    "cv2.destroyAllWindows()"
   ]
  },
  {
   "cell_type": "markdown",
   "id": "3ea77110-a77c-4608-bcd4-f5f4d0dea071",
   "metadata": {},
   "source": [
    "### Pengaburan (Blurring)\n",
    "#### Media"
   ]
  },
  {
   "cell_type": "code",
   "execution_count": 10,
   "id": "8c75a3c6-feef-4329-a67e-d301aa85d4ff",
   "metadata": {},
   "outputs": [],
   "source": [
    "citra = cv2.imread('simba.jpg')\n",
    "\n",
    "blur1 = cv2.medianBlur(citra, 5)\n",
    "blur2 = cv2.medianBlur(citra, 45)\n",
    "\n",
    "hasil = np.hstack((citra, blur1, blur2))"
   ]
  },
  {
   "cell_type": "code",
   "execution_count": 11,
   "id": "68e5ed60-69aa-4791-b3ec-a8556b654dc6",
   "metadata": {},
   "outputs": [],
   "source": [
    "# Tampilkan citra asal dan hasilnya\n",
    "cv2.imshow('Hasil', hasil)\n",
    "cv2.waitKey(0)\n",
    "cv2.destroyAllWindows()"
   ]
  },
  {
   "cell_type": "markdown",
   "id": "eef25c39-a173-4a41-811b-840e3f7d1c4c",
   "metadata": {},
   "source": [
    "#### Blur"
   ]
  },
  {
   "cell_type": "code",
   "execution_count": 12,
   "id": "782ac6d9-3822-4b17-9e41-0cf0e7938f42",
   "metadata": {},
   "outputs": [],
   "source": [
    "citra = cv2.imread('simba.jpg')\n",
    "\n",
    "blur1 = cv2.blur(citra, (5, 5))\n",
    "blur2 = cv2.blur(citra, (13, 13))\n",
    "\n",
    "hasil = np.hstack((citra, blur1, blur2))"
   ]
  },
  {
   "cell_type": "code",
   "execution_count": 13,
   "id": "684801b2-8ee6-4a42-8587-028ab951aa7d",
   "metadata": {},
   "outputs": [],
   "source": [
    "# Tampilkan citra asal dan hasilnya\n",
    "cv2.imshow('Hasil', hasil)\n",
    "cv2.waitKey(0)\n",
    "cv2.destroyAllWindows()"
   ]
  },
  {
   "cell_type": "markdown",
   "id": "155ebf71-79fa-46bc-9b80-c381b48eeeb8",
   "metadata": {},
   "source": [
    "#### Gaussian"
   ]
  },
  {
   "cell_type": "code",
   "execution_count": 14,
   "id": "cfa289da-7193-40b7-b3d5-d27b8bb1923b",
   "metadata": {},
   "outputs": [],
   "source": [
    "citra = cv2.imread('simba.jpg')\n",
    "\n",
    "blur1 = cv2.GaussianBlur(citra, (5, 5), 0)\n",
    "blur2 = cv2.GaussianBlur(citra, (45, 45), 0)\n",
    "\n",
    "hasil = np.hstack((citra, blur1, blur2))"
   ]
  },
  {
   "cell_type": "code",
   "execution_count": 15,
   "id": "0b398396-9f01-4a37-8fb7-4ae5298fea48",
   "metadata": {},
   "outputs": [],
   "source": [
    "# Tampilkan citra asal dan hasilnya\n",
    "cv2.imshow('Hasil', hasil)\n",
    "cv2.waitKey(0)\n",
    "cv2.destroyAllWindows()"
   ]
  },
  {
   "cell_type": "markdown",
   "id": "4df99b75-f977-49fa-a365-4cdc664d3b59",
   "metadata": {},
   "source": [
    "#### Bilateral"
   ]
  },
  {
   "cell_type": "code",
   "execution_count": 16,
   "id": "58fac932-f69a-4346-98a7-861a84c559c9",
   "metadata": {},
   "outputs": [],
   "source": [
    "citra = cv2.imread('simba.jpg')\n",
    "\n",
    "blur1 = cv2.bilateralFilter(citra, 10, 75, 75)\n",
    "blur2 = cv2.bilateralFilter(citra, 10, 150, 150)\n",
    "\n",
    "hasil = np.hstack((citra, blur1, blur2))"
   ]
  },
  {
   "cell_type": "code",
   "execution_count": 17,
   "id": "165463fa-e985-4043-a797-534dd81f7406",
   "metadata": {},
   "outputs": [],
   "source": [
    "# Tampilkan citra asal dan hasilnya\n",
    "cv2.imshow('Hasil', hasil)\n",
    "cv2.waitKey(0)\n",
    "cv2.destroyAllWindows()"
   ]
  },
  {
   "cell_type": "markdown",
   "id": "ea249898-89cc-45a7-b254-2b31c49c907a",
   "metadata": {},
   "source": [
    "### Noise Filter\n",
    "#### Menambahkan Noise"
   ]
  },
  {
   "cell_type": "code",
   "execution_count": 18,
   "id": "e43042f0-05d7-4e8c-bae8-35b1560a01a9",
   "metadata": {},
   "outputs": [],
   "source": [
    "import random\n",
    "\n",
    "citra = cv2.imread('simba.jpg', 0)\n",
    "\n",
    "hasil = citra.copy() # Salin isi citra\n",
    "jumBaris, jumKolom = hasil.shape[:2]\n",
    "prob=0.1\n",
    "for baris in range(jumBaris):\n",
    "    for kolom in range(jumKolom):\n",
    "        nilaiAcak = random.random()\n",
    "    if nilaiAcak < prob / 2:\n",
    "        hasil[baris, kolom] = 0 # merica\n",
    "    elif nilaiAcak > prob / 2 and\\\n",
    "         nilaiAcak <= prob:\n",
    "        hasil[baris, kolom] = 255 # Garam"
   ]
  },
  {
   "cell_type": "code",
   "execution_count": 19,
   "id": "9ec77d03-a8da-4c10-9179-d9203d557e58",
   "metadata": {},
   "outputs": [
    {
     "data": {
      "text/plain": [
       "True"
      ]
     },
     "execution_count": 19,
     "metadata": {},
     "output_type": "execute_result"
    }
   ],
   "source": [
    "cv2.imshow('Original', citra)\n",
    "cv2.imshow('Hasil rotasi', hasil)\n",
    "\n",
    "cv2.waitKey(0)\n",
    "cv2.destroyAllWindows()\n",
    "\n",
    "# Simpan citra\n",
    "cv2.imwrite('simbagdm.jpg', hasil)"
   ]
  },
  {
   "cell_type": "markdown",
   "id": "562cb6c6-e78e-47ba-b6c3-920671cb7716",
   "metadata": {},
   "source": [
    "#### menggunakan filter median"
   ]
  },
  {
   "cell_type": "code",
   "execution_count": 20,
   "id": "06f44c83-ed47-4e84-86c2-dd517855a437",
   "metadata": {},
   "outputs": [],
   "source": [
    "citra = cv2.imread('simbagdm.jpg', 0)\n",
    "if citra is None:\n",
    "    print('Berkas citra tak dapat dibaca')\n",
    "else:\n",
    "    terfilter = cv2.medianBlur(citra, 5)\n",
    "    hasil = np.hstack((citra, terfilter))"
   ]
  },
  {
   "cell_type": "code",
   "execution_count": 21,
   "id": "ce8db0c1-32dd-40d8-9ffe-bfab713b7c8e",
   "metadata": {},
   "outputs": [],
   "source": [
    "# Tampilkan citra asal dan hasilnya\n",
    "cv2.imshow('Hasil', hasil)\n",
    "cv2.waitKey(0)\n",
    "cv2.destroyAllWindows()"
   ]
  },
  {
   "cell_type": "markdown",
   "id": "854f091b-5605-42b9-9b83-b34b41e3c9b1",
   "metadata": {},
   "source": [
    "#### FastNIMeanDenoising"
   ]
  },
  {
   "cell_type": "code",
   "execution_count": 22,
   "id": "3f96a5fe-df2e-4dc0-8fc8-090329de31fb",
   "metadata": {},
   "outputs": [],
   "source": [
    "citra = cv2.imread('simbagdm.jpg', 0)\n",
    "if citra is None:\n",
    "    print('Berkas citra tak dapat dibaca')\n",
    "else:\n",
    "    terfilter = cv2.fastNlMeansDenoising(citra, None, 30)\n",
    "    hasil = np.hstack((citra, terfilter))"
   ]
  },
  {
   "cell_type": "code",
   "execution_count": 23,
   "id": "ef6de455-38d5-44ab-a6c9-5f09eae4a071",
   "metadata": {},
   "outputs": [],
   "source": [
    "# Tampilkan citra asal dan hasilnya\n",
    "cv2.imshow('Hasil', hasil)\n",
    "cv2.waitKey(0)\n",
    "cv2.destroyAllWindows()"
   ]
  },
  {
   "cell_type": "markdown",
   "id": "638033be-d66d-4440-8a64-e45acf3a5a85",
   "metadata": {},
   "source": [
    "#### fastNlMeansDenoisingColored"
   ]
  },
  {
   "cell_type": "code",
   "execution_count": 24,
   "id": "373337b8-66fd-4d26-ad7e-4a08e4f28c50",
   "metadata": {},
   "outputs": [],
   "source": [
    "citra = cv2.imread('simbagdm.jpg')\n",
    "if citra is None:\n",
    "    print('Berkas citra tak dapat dibaca')\n",
    "else:\n",
    "    terfilter = cv2.fastNlMeansDenoisingColored(citra, None, 30, 30)\n",
    "    hasil = np.hstack((citra, terfilter))"
   ]
  },
  {
   "cell_type": "code",
   "execution_count": 25,
   "id": "8d4e9118-6dac-4823-887b-9338c28278a0",
   "metadata": {},
   "outputs": [],
   "source": [
    "# Tampilkan citra asal dan hasilnya\n",
    "cv2.imshow('Hasil', hasil)\n",
    "cv2.waitKey(0)\n",
    "cv2.destroyAllWindows()"
   ]
  }
 ],
 "metadata": {
  "kernelspec": {
   "display_name": "Python 3 (ipykernel)",
   "language": "python",
   "name": "python3"
  },
  "language_info": {
   "codemirror_mode": {
    "name": "ipython",
    "version": 3
   },
   "file_extension": ".py",
   "mimetype": "text/x-python",
   "name": "python",
   "nbconvert_exporter": "python",
   "pygments_lexer": "ipython3",
   "version": "3.9.16"
  }
 },
 "nbformat": 4,
 "nbformat_minor": 5
}
