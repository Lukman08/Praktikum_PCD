{
 "cells": [
  {
   "cell_type": "code",
   "execution_count": 1,
   "id": "e80076c0-e6e7-4d6d-b487-0af77989f0df",
   "metadata": {},
   "outputs": [],
   "source": [
    "import cv2\n",
    "import matplotlib.pyplot as plt\n",
    "import numpy as np"
   ]
  },
  {
   "cell_type": "code",
   "execution_count": 3,
   "id": "6c52b93c-5f91-475f-b0a0-8bf6acbc787f",
   "metadata": {},
   "outputs": [
    {
     "name": "stdout",
     "output_type": "stream",
     "text": [
      "Citra tidak ditemukan !\n"
     ]
    }
   ],
   "source": [
    "img = cv2.imread('data/zoro.jpg')\n",
    "if not img is None:\n",
    "    # Konversi ke HSV\n",
    "    hsv = cv2.cvtColor(img, cv2.COLOR_BGR2HSV)\n",
    "    \n",
    "    batasRendah = np.array([100, 20, 20])\n",
    "    batasAtas = np.array([140, 255, 255])\n",
    "    \n",
    "    # Peroleh bagian bagian yang berwarna biru\n",
    "    getBiru = cv2.inRange(hsv, batasRendah, batasAtas)\n",
    "    \n",
    "    # Kenakan operasi and terhadap citra asli\n",
    "    hasil = cv2.bitwise_and(img, img, mask = getBiru)\n",
    "    \n",
    "    cv2.imshow('Citra asli', img)\n",
    "    cv2.imshow('MAsking', getBiru)\n",
    "    \n",
    "    cv2.imshow('Citra hasil', hasil)\n",
    "    cv2.waitKey()\n",
    "    cv2.destroyAllWindows()\n",
    "else:\n",
    "    print(\"Citra tidak ditemukan !\")"
   ]
  },
  {
   "cell_type": "code",
   "execution_count": null,
   "id": "c455f4da-a6f9-4dc4-acac-8bbf29587525",
   "metadata": {},
   "outputs": [],
   "source": [
    "img = cv2.imread('bentukwarna.jpg')\n",
    "if not img is None:\n",
    "    # Konversi ke HSV\n",
    "    hsv = cv2.cvtColor(img, cv2.COLOR_BGR2HSV)\n",
    "    \n",
    "    batasRendahA = np.array([159, 20, 20])\n",
    "    batasAtasA = np.array([179, 255, 255])\n",
    "    \n",
    "    batasRendahB = np.array([0, 20, 20])\n",
    "    batasAtasB = np.array([20, 255, 255])\n",
    "    \n",
    "    # Peroleh bagian bagian yang berwarna biru\n",
    "    maskA = cv2.inRange(hsv, batasRendahA, batasAtasA)\n",
    "    maskB = cv2.inRange(hsv, batasRendahB, batasAtasB)\n",
    "    masking = maskA | maskB\n",
    "    \n",
    "    # Kenakan operasi and terhadap citra asli\n",
    "    hasil = cv2.bitwise_and(img, img, mask = maksing)\n",
    "    \n",
    "    cv2.imshow('Citra asli', img)\n",
    "    cv2.imshow('MAsking Matriks', masking) \n",
    "    cv2.imshow('Citra hasil', hasil)\n",
    "    \n",
    "    cv2.waitKey(0)\n",
    "    cv2.destroyAllWindows()\n",
    "else:\n",
    "    print(\"Citra tidak ditemukan !\")"
   ]
  }
 ],
 "metadata": {
  "kernelspec": {
   "display_name": "Python 3 (ipykernel)",
   "language": "python",
   "name": "python3"
  },
  "language_info": {
   "codemirror_mode": {
    "name": "ipython",
    "version": 3
   },
   "file_extension": ".py",
   "mimetype": "text/x-python",
   "name": "python",
   "nbconvert_exporter": "python",
   "pygments_lexer": "ipython3",
   "version": "3.9.16"
  }
 },
 "nbformat": 4,
 "nbformat_minor": 5
}
